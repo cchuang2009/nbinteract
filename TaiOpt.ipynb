{
 "cells": [
  {
   "cell_type": "code",
   "execution_count": 1,
   "metadata": {},
   "outputs": [
    {
     "data": {
      "text/plain": [
       "'%.4f'"
      ]
     },
     "execution_count": 1,
     "metadata": {},
     "output_type": "execute_result"
    }
   ],
   "source": [
    "import pandas as pd\n",
    "import numpy as np\n",
    "\n",
    "from ipy_table import make_table,apply_theme,set_cell_style,set_column_style,set_row_style\n",
    "from IPython.display import clear_output, display\n",
    "\n",
    "from ipywidgets import interact, interactive, fixed, interact_manual\n",
    "import ipywidgets as widgets\n",
    "\n",
    "%precision 4"
   ]
  },
  {
   "cell_type": "code",
   "execution_count": 2,
   "metadata": {},
   "outputs": [],
   "source": [
    "TaiOpt=pd.read_csv(\"TaiOpt.csv\")#,skiprows = [1])"
   ]
  },
  {
   "cell_type": "code",
   "execution_count": 3,
   "metadata": {},
   "outputs": [],
   "source": [
    "TaiOpt=TaiOpt.iloc[0:15,:]"
   ]
  },
  {
   "cell_type": "code",
   "execution_count": 4,
   "metadata": {},
   "outputs": [],
   "source": [
    "#TaiOptPut=pd.DataFrame()\n",
    "#TaiOptCall=pd.DataFrame()\n",
    "TaiTotal=pd.DataFrame()"
   ]
  },
  {
   "cell_type": "code",
   "execution_count": 5,
   "metadata": {},
   "outputs": [],
   "source": [
    "def updown(x):\n",
    "    if float(x)>0:\n",
    "       x='△'+(x) \n",
    "    elif float(x)<0:\n",
    "        x='▽'+str(abs(float(x)) )\n",
    "    return x    "
   ]
  },
  {
   "cell_type": "code",
   "execution_count": 6,
   "metadata": {},
   "outputs": [],
   "source": [
    "TaiTotal['買權 履約價']=TaiOpt.iloc[1:14,7]\n",
    "TaiTotal['時間']=TaiOpt.iloc[1:14,6].astype(str).str[:5]\n",
    "TaiTotal['成交價']=TaiOpt.iloc[1:14,2]\n",
    "TaiTotal['買價']=TaiOpt.iloc[1:14,2]\n",
    "TaiTotal['賣價']=TaiOpt.iloc[1:14,1]\n",
    "TaiTotal['漲跌']=TaiOpt.iloc[1:14,3].apply(lambda x:updown(x))\n",
    "TaiTotal['總量']=TaiOpt.iloc[1:14,5]\n",
    "TaiTotal['賣權 履約價']=TaiOpt.iloc[1:14,7]\n",
    "TaiTotal['時間_']=TaiOpt.iloc[1:14,14].astype(str).str[:5]\n",
    "TaiTotal['成交價_']=TaiOpt.iloc[1:14,10]\n",
    "TaiTotal['買價_']=TaiOpt.iloc[1:14,8]\n",
    "TaiTotal['賣價_']=TaiOpt.iloc[1:14,9]\n",
    "TaiTotal['漲跌_']=TaiOpt.iloc[1:14,11].apply(lambda x:updown(x))\n",
    "TaiTotal['總量_']=TaiOpt.iloc[1:14,13]\n"
   ]
  },
  {
   "cell_type": "code",
   "execution_count": 7,
   "metadata": {},
   "outputs": [
    {
     "data": {
      "text/html": [
       "<div>\n",
       "<style scoped>\n",
       "    .dataframe tbody tr th:only-of-type {\n",
       "        vertical-align: middle;\n",
       "    }\n",
       "\n",
       "    .dataframe tbody tr th {\n",
       "        vertical-align: top;\n",
       "    }\n",
       "\n",
       "    .dataframe thead th {\n",
       "        text-align: right;\n",
       "    }\n",
       "</style>\n",
       "<table border=\"1\" class=\"dataframe\">\n",
       "  <thead>\n",
       "    <tr style=\"text-align: right;\">\n",
       "      <th></th>\n",
       "      <th>買權 履約價</th>\n",
       "      <th>時間</th>\n",
       "      <th>成交價</th>\n",
       "      <th>買價</th>\n",
       "      <th>賣價</th>\n",
       "      <th>漲跌</th>\n",
       "      <th>總量</th>\n",
       "      <th>賣權 履約價</th>\n",
       "      <th>時間_</th>\n",
       "      <th>成交價_</th>\n",
       "      <th>買價_</th>\n",
       "      <th>賣價_</th>\n",
       "      <th>漲跌_</th>\n",
       "      <th>總量_</th>\n",
       "    </tr>\n",
       "  </thead>\n",
       "  <tbody>\n",
       "    <tr>\n",
       "      <th>1</th>\n",
       "      <td>9900</td>\n",
       "      <td>10:45</td>\n",
       "      <td>725</td>\n",
       "      <td>725</td>\n",
       "      <td>755</td>\n",
       "      <td>△25</td>\n",
       "      <td>16</td>\n",
       "      <td>9900</td>\n",
       "      <td>13:44</td>\n",
       "      <td>16.5</td>\n",
       "      <td>16.5</td>\n",
       "      <td>17.5</td>\n",
       "      <td>△2</td>\n",
       "      <td>2094</td>\n",
       "    </tr>\n",
       "    <tr>\n",
       "      <th>2</th>\n",
       "      <td>10000</td>\n",
       "      <td>13:04</td>\n",
       "      <td>595</td>\n",
       "      <td>595</td>\n",
       "      <td>670</td>\n",
       "      <td>▽15.0</td>\n",
       "      <td>7</td>\n",
       "      <td>10000</td>\n",
       "      <td>13:43</td>\n",
       "      <td>22.5</td>\n",
       "      <td>21.5</td>\n",
       "      <td>22</td>\n",
       "      <td>△3.5</td>\n",
       "      <td>2138</td>\n",
       "    </tr>\n",
       "    <tr>\n",
       "      <th>3</th>\n",
       "      <td>10100</td>\n",
       "      <td>12:17</td>\n",
       "      <td>515</td>\n",
       "      <td>515</td>\n",
       "      <td>520</td>\n",
       "      <td>0</td>\n",
       "      <td>15</td>\n",
       "      <td>10100</td>\n",
       "      <td>13:42</td>\n",
       "      <td>30</td>\n",
       "      <td>28.5</td>\n",
       "      <td>30</td>\n",
       "      <td>△5</td>\n",
       "      <td>2052</td>\n",
       "    </tr>\n",
       "    <tr>\n",
       "      <th>4</th>\n",
       "      <td>10200</td>\n",
       "      <td>13:38</td>\n",
       "      <td>421</td>\n",
       "      <td>421</td>\n",
       "      <td>428</td>\n",
       "      <td>▽8.0</td>\n",
       "      <td>10</td>\n",
       "      <td>10200</td>\n",
       "      <td>13:44</td>\n",
       "      <td>40.5</td>\n",
       "      <td>40.5</td>\n",
       "      <td>41</td>\n",
       "      <td>△4.5</td>\n",
       "      <td>5065</td>\n",
       "    </tr>\n",
       "    <tr>\n",
       "      <th>5</th>\n",
       "      <td>10300</td>\n",
       "      <td>13:39</td>\n",
       "      <td>339</td>\n",
       "      <td>339</td>\n",
       "      <td>343</td>\n",
       "      <td>▽3.0</td>\n",
       "      <td>894</td>\n",
       "      <td>10300</td>\n",
       "      <td>13:44</td>\n",
       "      <td>56</td>\n",
       "      <td>55</td>\n",
       "      <td>56</td>\n",
       "      <td>△5</td>\n",
       "      <td>5273</td>\n",
       "    </tr>\n",
       "    <tr>\n",
       "      <th>6</th>\n",
       "      <td>10400</td>\n",
       "      <td>13:43</td>\n",
       "      <td>262</td>\n",
       "      <td>262</td>\n",
       "      <td>265</td>\n",
       "      <td>0</td>\n",
       "      <td>1022</td>\n",
       "      <td>10400</td>\n",
       "      <td>13:44</td>\n",
       "      <td>78</td>\n",
       "      <td>77</td>\n",
       "      <td>78</td>\n",
       "      <td>△7</td>\n",
       "      <td>3636</td>\n",
       "    </tr>\n",
       "    <tr>\n",
       "      <th>7</th>\n",
       "      <td>10500</td>\n",
       "      <td>13:44</td>\n",
       "      <td>193</td>\n",
       "      <td>193</td>\n",
       "      <td>194</td>\n",
       "      <td>▽2.0</td>\n",
       "      <td>2351</td>\n",
       "      <td>10500</td>\n",
       "      <td>13:44</td>\n",
       "      <td>108</td>\n",
       "      <td>107</td>\n",
       "      <td>108</td>\n",
       "      <td>△7</td>\n",
       "      <td>5123</td>\n",
       "    </tr>\n",
       "    <tr>\n",
       "      <th>8</th>\n",
       "      <td>10600</td>\n",
       "      <td>13:44</td>\n",
       "      <td>133</td>\n",
       "      <td>133</td>\n",
       "      <td>135</td>\n",
       "      <td>▽2.0</td>\n",
       "      <td>3092</td>\n",
       "      <td>10600</td>\n",
       "      <td>13:44</td>\n",
       "      <td>149</td>\n",
       "      <td>147</td>\n",
       "      <td>150</td>\n",
       "      <td>△9</td>\n",
       "      <td>3486</td>\n",
       "    </tr>\n",
       "    <tr>\n",
       "      <th>9</th>\n",
       "      <td>10700</td>\n",
       "      <td>13:44</td>\n",
       "      <td>88</td>\n",
       "      <td>88</td>\n",
       "      <td>89</td>\n",
       "      <td>0</td>\n",
       "      <td>4187</td>\n",
       "      <td>10700</td>\n",
       "      <td>13:44</td>\n",
       "      <td>203</td>\n",
       "      <td>201</td>\n",
       "      <td>205</td>\n",
       "      <td>△8</td>\n",
       "      <td>2529</td>\n",
       "    </tr>\n",
       "    <tr>\n",
       "      <th>10</th>\n",
       "      <td>10800</td>\n",
       "      <td>13:44</td>\n",
       "      <td>55</td>\n",
       "      <td>55</td>\n",
       "      <td>55</td>\n",
       "      <td>△2</td>\n",
       "      <td>8020</td>\n",
       "      <td>10800</td>\n",
       "      <td>13:44</td>\n",
       "      <td>267</td>\n",
       "      <td>266</td>\n",
       "      <td>271</td>\n",
       "      <td>△4</td>\n",
       "      <td>979</td>\n",
       "    </tr>\n",
       "    <tr>\n",
       "      <th>11</th>\n",
       "      <td>10900</td>\n",
       "      <td>13:44</td>\n",
       "      <td>33</td>\n",
       "      <td>33</td>\n",
       "      <td>33</td>\n",
       "      <td>△2</td>\n",
       "      <td>7049</td>\n",
       "      <td>10900</td>\n",
       "      <td>13:34</td>\n",
       "      <td>343</td>\n",
       "      <td>345</td>\n",
       "      <td>349</td>\n",
       "      <td>△2</td>\n",
       "      <td>481</td>\n",
       "    </tr>\n",
       "    <tr>\n",
       "      <th>12</th>\n",
       "      <td>11000</td>\n",
       "      <td>13:44</td>\n",
       "      <td>19.5</td>\n",
       "      <td>19.5</td>\n",
       "      <td>20</td>\n",
       "      <td>△1</td>\n",
       "      <td>5793</td>\n",
       "      <td>11000</td>\n",
       "      <td>13:11</td>\n",
       "      <td>450</td>\n",
       "      <td>432</td>\n",
       "      <td>436</td>\n",
       "      <td>△23</td>\n",
       "      <td>64</td>\n",
       "    </tr>\n",
       "    <tr>\n",
       "      <th>13</th>\n",
       "      <td>11100</td>\n",
       "      <td>13:43</td>\n",
       "      <td>12.5</td>\n",
       "      <td>12.5</td>\n",
       "      <td>13</td>\n",
       "      <td>△2.5</td>\n",
       "      <td>13481</td>\n",
       "      <td>11100</td>\n",
       "      <td>13:01</td>\n",
       "      <td>535</td>\n",
       "      <td>520</td>\n",
       "      <td>535</td>\n",
       "      <td>△10</td>\n",
       "      <td>2</td>\n",
       "    </tr>\n",
       "  </tbody>\n",
       "</table>\n",
       "</div>"
      ],
      "text/plain": [
       "   買權 履約價     時間   成交價    買價   賣價     漲跌     總量 賣權 履約價    時間_  成交價_   買價_  \\\n",
       "1    9900  10:45   725   725  755    △25     16   9900  13:44  16.5  16.5   \n",
       "2   10000  13:04   595   595  670  ▽15.0      7  10000  13:43  22.5  21.5   \n",
       "3   10100  12:17   515   515  520      0     15  10100  13:42    30  28.5   \n",
       "4   10200  13:38   421   421  428   ▽8.0     10  10200  13:44  40.5  40.5   \n",
       "5   10300  13:39   339   339  343   ▽3.0    894  10300  13:44    56    55   \n",
       "6   10400  13:43   262   262  265      0   1022  10400  13:44    78    77   \n",
       "7   10500  13:44   193   193  194   ▽2.0   2351  10500  13:44   108   107   \n",
       "8   10600  13:44   133   133  135   ▽2.0   3092  10600  13:44   149   147   \n",
       "9   10700  13:44    88    88   89      0   4187  10700  13:44   203   201   \n",
       "10  10800  13:44    55    55   55     △2   8020  10800  13:44   267   266   \n",
       "11  10900  13:44    33    33   33     △2   7049  10900  13:34   343   345   \n",
       "12  11000  13:44  19.5  19.5   20     △1   5793  11000  13:11   450   432   \n",
       "13  11100  13:43  12.5  12.5   13   △2.5  13481  11100  13:01   535   520   \n",
       "\n",
       "     賣價_   漲跌_   總量_  \n",
       "1   17.5    △2  2094  \n",
       "2     22  △3.5  2138  \n",
       "3     30    △5  2052  \n",
       "4     41  △4.5  5065  \n",
       "5     56    △5  5273  \n",
       "6     78    △7  3636  \n",
       "7    108    △7  5123  \n",
       "8    150    △9  3486  \n",
       "9    205    △8  2529  \n",
       "10   271    △4   979  \n",
       "11   349    △2   481  \n",
       "12   436   △23    64  \n",
       "13   535   △10     2  "
      ]
     },
     "metadata": {},
     "output_type": "display_data"
    }
   ],
   "source": [
    "display(TaiTotal)"
   ]
  },
  {
   "cell_type": "code",
   "execution_count": 8,
   "metadata": {},
   "outputs": [],
   "source": [
    "r=0.01844"
   ]
  },
  {
   "cell_type": "code",
   "execution_count": 9,
   "metadata": {},
   "outputs": [],
   "source": [
    "def arb(df_,S1,S2):\n",
    "    df=df_.copy()\n",
    "    df['cp']=df['買價'].astype(float)-df['賣價'].astype('float')\n",
    "    df['b']=S1-df['買權 履約價'].astype(float)*(1+r)**(-1/12)\n",
    "    df['arbitrage']=(df['b']-df['cp']).map('{:,.2f}'.format)\n",
    "    #df['arbitrage']=df['買權 履約價'].apply(lambda K:arbitrage(C,P,S,float(K),r))\n",
    "    df['cp1']=df['買價_'].astype(float)-df['賣價_'].astype('float')\n",
    "    df['b1']=S2-df['賣權 履約價'].astype(float)*(1+r)**(-1/12)\n",
    "    df['arbitrage1']=(df['b1']-df['cp1']).map('{:,.2f}'.format)\n",
    "    \n",
    "    print('買權 履約價','  Arbitrage','  賣權 履約價','  Arbitrage')\n",
    "    for i in range(len(df)):\n",
    "        print('{:11} {:>9} {:>11} {:>9}'.format(df.iloc[i,0],df.iloc[i,-4],df.iloc[i,0],df.iloc[i,-1]))\n",
    "    #print(df[['買權 履約價','arbitrage']])"
   ]
  },
  {
   "cell_type": "code",
   "execution_count": 10,
   "metadata": {},
   "outputs": [
    {
     "data": {
      "application/vnd.jupyter.widget-view+json": {
       "model_id": "dcec447030f24e958b8561cfb39f9b05",
       "version_major": 2,
       "version_minor": 0
      },
      "text/plain": [
       "interactive(children=(IntSlider(value=10900, description='Pull', max=12000, min=9900, step=100), IntSlider(val…"
      ]
     },
     "metadata": {},
     "output_type": "display_data"
    }
   ],
   "source": [
    "@interact\n",
    "def show_arbitrage(Pull=(9900, 12000, 100),Call=(9900, 12000, 100)):\n",
    "    return arb(TaiTotal,Pull,Call)\n"
   ]
  },
  {
   "cell_type": "markdown",
   "metadata": {},
   "source": [
    "Future Arbitrage\n",
    "---"
   ]
  },
  {
   "cell_type": "code",
   "execution_count": 11,
   "metadata": {},
   "outputs": [],
   "source": [
    "def arb_future(df_,S1,S2):\n",
    "    df=df_.copy()\n",
    "    df['cp']=df['買價'].astype(float)-df['賣價'].astype('float')\n",
    "    df['b']=S1-df['買權 履約價'].astype(float)*(1+r)**(1/12)\n",
    "    df['arbitrage']=(df['b']-df['cp']).map('{:,.2f}'.format)\n",
    "    #df['arbitrage']=df['買權 履約價'].apply(lambda K:arbitrage(C,P,S,float(K),r))\n",
    "    df['cp1']=df['買價_'].astype(float)-df['賣價_'].astype('float')\n",
    "    df['b1']=S2-df['賣權 履約價'].astype(float)*(1+r)**(1/12)\n",
    "    df['arbitrage1']=(df['b1']-df['cp1']).map('{:,.2f}'.format)\n",
    "    \n",
    "    print('買權 履約價','  Arbitrage','  賣權 履約價','  Arbitrage')\n",
    "    for i in range(len(df)):\n",
    "        print('{:11} {:>9} {:>11} {:>9}'.format(df.iloc[i,0],df.iloc[i,-4],df.iloc[i,0],df.iloc[i,-1]))\n",
    "    #print(df[['買權 履約價','arbitrage']])"
   ]
  },
  {
   "cell_type": "code",
   "execution_count": 12,
   "metadata": {
    "scrolled": false
   },
   "outputs": [
    {
     "data": {
      "application/vnd.jupyter.widget-view+json": {
       "model_id": "f48834586bf645d190d2fa7d365b01fc",
       "version_major": 2,
       "version_minor": 0
      },
      "text/plain": [
       "interactive(children=(IntSlider(value=10900, description='Pull', max=12000, min=9900, step=100), IntSlider(val…"
      ]
     },
     "metadata": {},
     "output_type": "display_data"
    }
   ],
   "source": [
    "@interact\n",
    "def show_arbitrage_future(Pull=(9900, 12000, 100),Call=(9900, 12000, 100)):\n",
    "    return arb_future(TaiTotal,Pull,Call)\n"
   ]
  },
  {
   "cell_type": "code",
   "execution_count": null,
   "metadata": {},
   "outputs": [],
   "source": []
  }
 ],
 "metadata": {
  "kernelspec": {
   "display_name": "Python 3",
   "language": "python",
   "name": "python3"
  },
  "language_info": {
   "codemirror_mode": {
    "name": "ipython",
    "version": 3
   },
   "file_extension": ".py",
   "mimetype": "text/x-python",
   "name": "python",
   "nbconvert_exporter": "python",
   "pygments_lexer": "ipython3",
   "version": "3.6.5"
  },
  "toc": {
   "colors": {
    "hover_highlight": "#DAA520",
    "navigate_num": "#000000",
    "navigate_text": "#333333",
    "running_highlight": "#FF0000",
    "selected_highlight": "#FFD700",
    "sidebar_border": "#EEEEEE",
    "wrapper_background": "#FFFFFF"
   },
   "moveMenuLeft": true,
   "nav_menu": {
    "height": "338px",
    "width": "252px"
   },
   "navigate_menu": true,
   "number_sections": true,
   "sideBar": true,
   "threshold": 4,
   "toc_cell": false,
   "toc_section_display": "block",
   "toc_window_display": false,
   "widenNotebook": false
  },
  "widgets": {
   "application/vnd.jupyter.widget-state+json": {
    "state": {
     "0099f3d828d741b28121e8e5478b1b92": {
      "model_module": "@jupyter-widgets/controls",
      "model_module_version": "1.4.0",
      "model_name": "SliderStyleModel",
      "state": {
       "description_width": ""
      }
     },
     "00ddc4606c194d4b8c74f652bf81abf4": {
      "model_module": "@jupyter-widgets/base",
      "model_module_version": "1.1.0",
      "model_name": "LayoutModel",
      "state": {}
     },
     "037242a6aadc4ea9a8833799f915ffad": {
      "model_module": "@jupyter-widgets/controls",
      "model_module_version": "1.4.0",
      "model_name": "SliderStyleModel",
      "state": {
       "description_width": ""
      }
     },
     "039cf8806b88491685b9292e6a39af0a": {
      "model_module": "@jupyter-widgets/controls",
      "model_module_version": "1.4.0",
      "model_name": "DescriptionStyleModel",
      "state": {
       "description_width": ""
      }
     },
     "07bdf602ec16431293ea712eed19e7f4": {
      "model_module": "@jupyter-widgets/base",
      "model_module_version": "1.1.0",
      "model_name": "LayoutModel",
      "state": {}
     },
     "07de05e1fc80438583f28f598555b7d4": {
      "model_module": "@jupyter-widgets/controls",
      "model_module_version": "1.4.0",
      "model_name": "IntSliderModel",
      "state": {
       "description": "Pull",
       "layout": "IPY_MODEL_733338204e6d4ff989ccc0f1864d9a06",
       "max": 12000,
       "min": 9900,
       "step": 100,
       "style": "IPY_MODEL_121ce739d06449d0bb47f132b13dbcf8",
       "value": 9900
      }
     },
     "0a149ed8d07647a1927524faf140998e": {
      "model_module": "@jupyter-widgets/controls",
      "model_module_version": "1.4.0",
      "model_name": "VBoxModel",
      "state": {
       "_dom_classes": [
        "widget-interact"
       ],
       "children": [
        "IPY_MODEL_d967d6a2222c4296a035303037c7b30c",
        "IPY_MODEL_122525fb8b4845f1b8ed51d8a0d71e29",
        "IPY_MODEL_a02bb618b08243ddaa72302b38e529c9"
       ],
       "layout": "IPY_MODEL_cbd0b6b310924a7588e275908c7ea0bb"
      }
     },
     "0fffb65733a74eea8477ca72914502bd": {
      "model_module": "@jupyter-widgets/base",
      "model_module_version": "1.1.0",
      "model_name": "LayoutModel",
      "state": {}
     },
     "11e247604945447a981914cb73921fc1": {
      "model_module": "@jupyter-widgets/base",
      "model_module_version": "1.1.0",
      "model_name": "LayoutModel",
      "state": {}
     },
     "121ce739d06449d0bb47f132b13dbcf8": {
      "model_module": "@jupyter-widgets/controls",
      "model_module_version": "1.4.0",
      "model_name": "SliderStyleModel",
      "state": {
       "description_width": ""
      }
     },
     "122525fb8b4845f1b8ed51d8a0d71e29": {
      "model_module": "@jupyter-widgets/controls",
      "model_module_version": "1.4.0",
      "model_name": "IntSliderModel",
      "state": {
       "description": "Call",
       "layout": "IPY_MODEL_33848b5b77a548dcb9db5755caa0d7a0",
       "max": 12000,
       "min": 9900,
       "step": 100,
       "style": "IPY_MODEL_55706730424443d48763255dcadb41ea",
       "value": 10900
      }
     },
     "14c64b290af84aaca67870e282859dce": {
      "model_module": "@jupyter-widgets/output",
      "model_module_version": "1.0.0",
      "model_name": "OutputModel",
      "state": {
       "layout": "IPY_MODEL_ab5a86fb28e24942afe47e181c7b8eb1",
       "outputs": [
        {
         "name": "stdout",
         "output_type": "stream",
         "text": "買權 履約價   Arbitrage   賣權 履約價   Arbitrage\n9900           145.06        9900    985.91\n10000           90.22       10000    885.26\n10100          -79.63       10100    786.11\n10200         -177.48       10200    684.96\n10300         -280.33       10300    585.30\n10400         -381.18       10400    485.15\n10500         -483.02       10500    385.00\n10600         -581.87       10600    286.85\n10700         -682.72       10700    187.70\n10800         -783.57       10800     88.54\n10900         -883.42       10900    -12.61\n11000         -982.76       11000   -112.76\n11100       -1,082.61       11100   -201.91\n"
        }
       ]
      }
     },
     "14cf6396a66f476e8526659553d949f9": {
      "model_module": "@jupyter-widgets/base",
      "model_module_version": "1.1.0",
      "model_name": "LayoutModel",
      "state": {}
     },
     "15e6de98af084b46ad5c469361b88a97": {
      "model_module": "@jupyter-widgets/base",
      "model_module_version": "1.1.0",
      "model_name": "LayoutModel",
      "state": {}
     },
     "180346af9b6141fdb65bfe619e49b3a8": {
      "model_module": "@jupyter-widgets/base",
      "model_module_version": "1.1.0",
      "model_name": "LayoutModel",
      "state": {}
     },
     "193046223313468cb3f0a2c514ee1335": {
      "model_module": "@jupyter-widgets/base",
      "model_module_version": "1.1.0",
      "model_name": "LayoutModel",
      "state": {}
     },
     "196ab24412474d02a8a94b5faaf8e86e": {
      "model_module": "@jupyter-widgets/controls",
      "model_module_version": "1.4.0",
      "model_name": "IntSliderModel",
      "state": {
       "description": "Call",
       "layout": "IPY_MODEL_d242e9b7772f45ae95210d7d604710c2",
       "max": 12000,
       "min": 9900,
       "step": 100,
       "style": "IPY_MODEL_9858770b452147a5a1bbebd36fbe19fd",
       "value": 10900
      }
     },
     "1ae130a62e214b0f9a8785cedb17a1c8": {
      "model_module": "@jupyter-widgets/controls",
      "model_module_version": "1.4.0",
      "model_name": "VBoxModel",
      "state": {
       "_dom_classes": [
        "widget-interact"
       ],
       "children": [
        "IPY_MODEL_fc5bc726318a4c02b0230d36b1dcc789",
        "IPY_MODEL_98882e2b49944adc855ad94df3bc08ce",
        "IPY_MODEL_2c606520dd074040987fe32e8a77b5f5"
       ],
       "layout": "IPY_MODEL_365e9eecbdc1407c92149a6f301a6281"
      }
     },
     "1b8213e4b0994b559725c8dac5cfc193": {
      "model_module": "@jupyter-widgets/controls",
      "model_module_version": "1.4.0",
      "model_name": "IntSliderModel",
      "state": {
       "description": "Call",
       "layout": "IPY_MODEL_8d2959e7189640baa974c3d1683ad589",
       "max": 12000,
       "min": 9900,
       "step": 100,
       "style": "IPY_MODEL_9e8aa63af95c40e580900ab2e2af746b",
       "value": 10100
      }
     },
     "1b9f7be9f40a4b5ba0379e8a30016ecc": {
      "model_module": "@jupyter-widgets/base",
      "model_module_version": "1.1.0",
      "model_name": "LayoutModel",
      "state": {}
     },
     "1c94bea68fe1490c8751a8c260ff66f0": {
      "model_module": "@jupyter-widgets/controls",
      "model_module_version": "1.4.0",
      "model_name": "SliderStyleModel",
      "state": {
       "description_width": ""
      }
     },
     "1d182398541546c6a1a16e3a19bdc7af": {
      "model_module": "@jupyter-widgets/base",
      "model_module_version": "1.1.0",
      "model_name": "LayoutModel",
      "state": {}
     },
     "1e1fdb89b0f84da3b868b0a2fac41174": {
      "model_module": "@jupyter-widgets/controls",
      "model_module_version": "1.4.0",
      "model_name": "SliderStyleModel",
      "state": {
       "description_width": ""
      }
     },
     "1e6387a2344b425d892a2f966bfe3020": {
      "model_module": "@jupyter-widgets/base",
      "model_module_version": "1.1.0",
      "model_name": "LayoutModel",
      "state": {}
     },
     "1ea91298dff14d07b85331e730ed189e": {
      "model_module": "@jupyter-widgets/output",
      "model_module_version": "1.0.0",
      "model_name": "OutputModel",
      "state": {
       "layout": "IPY_MODEL_762a60b8eddf41009a89680428e2c094",
       "outputs": [
        {
         "name": "stdout",
         "output_type": "stream",
         "text": "買權 履約價   Arbitrage   賣權 履約價   Arbitrage\n9900         1,045.06        9900  1,016.06\n10000          990.22       10000    915.72\n10100          820.37       10100    816.87\n10200          722.52       10200    716.02\n10300          619.67       10300    616.67\n10400          518.82       10400    516.82\n10500          416.98       10500    416.98\n10600          318.13       10600    319.13\n10700          217.28       10700    220.28\n10800          116.43       10800    121.43\n10900           16.58       10900     20.58\n11000          -82.76       11000    -79.26\n11100         -182.61       11100   -168.11\n"
        }
       ]
      }
     },
     "1f89d07a4cee4241b1f16da321541407": {
      "model_module": "@jupyter-widgets/controls",
      "model_module_version": "1.4.0",
      "model_name": "IntSliderModel",
      "state": {
       "description": "Call",
       "layout": "IPY_MODEL_1d182398541546c6a1a16e3a19bdc7af",
       "max": 12000,
       "min": 9900,
       "step": 100,
       "style": "IPY_MODEL_9b6dc1231b6f4473a13b3b75dc55c530",
       "value": 11300
      }
     },
     "1fc86f88e1a74e03af9a7317d3fba88c": {
      "model_module": "@jupyter-widgets/base",
      "model_module_version": "1.1.0",
      "model_name": "LayoutModel",
      "state": {}
     },
     "2079750a3fbc456999be64103f6b157f": {
      "model_module": "@jupyter-widgets/controls",
      "model_module_version": "1.4.0",
      "model_name": "IntSliderModel",
      "state": {
       "description": "Pull",
       "layout": "IPY_MODEL_f93a0c2faad946d39e8f4ef1cc583580",
       "max": 12000,
       "min": 9900,
       "step": 100,
       "style": "IPY_MODEL_b5cb01fea43f4e8fb3cad68144a5f1bc",
       "value": 10900
      }
     },
     "211605c1d2ca4ddfb4143c7ad12327c7": {
      "model_module": "@jupyter-widgets/controls",
      "model_module_version": "1.4.0",
      "model_name": "SliderStyleModel",
      "state": {
       "description_width": ""
      }
     },
     "22362b56d0a3423da287f993b3d97a2f": {
      "model_module": "@jupyter-widgets/base",
      "model_module_version": "1.1.0",
      "model_name": "LayoutModel",
      "state": {}
     },
     "24bdf3e3ca3c499cb6ee8907d442f42d": {
      "model_module": "@jupyter-widgets/base",
      "model_module_version": "1.1.0",
      "model_name": "LayoutModel",
      "state": {}
     },
     "27f60308efc14496928bfee5e0dacabd": {
      "model_module": "@jupyter-widgets/base",
      "model_module_version": "1.1.0",
      "model_name": "LayoutModel",
      "state": {}
     },
     "2ac09e4ae71d4fb3a82bd917b50eb52d": {
      "model_module": "@jupyter-widgets/base",
      "model_module_version": "1.1.0",
      "model_name": "LayoutModel",
      "state": {}
     },
     "2adc92e05f1548b69d640efb706d872f": {
      "model_module": "@jupyter-widgets/controls",
      "model_module_version": "1.4.0",
      "model_name": "VBoxModel",
      "state": {
       "_dom_classes": [
        "widget-interact"
       ],
       "children": [
        "IPY_MODEL_746699fb6e0f43ba93408d5e31a977a3",
        "IPY_MODEL_a93f32e3effe4528a52cb5f191f69b93",
        "IPY_MODEL_560f59a613f644199f49767f5117f668"
       ],
       "layout": "IPY_MODEL_44d9612f69574899b7d088df1535ec8c"
      }
     },
     "2c606520dd074040987fe32e8a77b5f5": {
      "model_module": "@jupyter-widgets/output",
      "model_module_version": "1.0.0",
      "model_name": "OutputModel",
      "state": {
       "layout": "IPY_MODEL_9b1e9ea71ea040e58dfa3ac15d4b1a5a",
       "outputs": [
        {
         "ename": "TypeError",
         "evalue": "'Series' object is not callable",
         "output_type": "error",
         "traceback": [
          "\u001b[0;31m---------------------------------------------------------------------------\u001b[0m",
          "\u001b[0;31mTypeError\u001b[0m                                 Traceback (most recent call last)",
          "\u001b[0;32m~/anaconda36/anaconda/lib/python3.6/site-packages/ipywidgets/widgets/interaction.py\u001b[0m in \u001b[0;36mupdate\u001b[0;34m(self, *args)\u001b[0m\n\u001b[1;32m    249\u001b[0m                     \u001b[0mvalue\u001b[0m \u001b[0;34m=\u001b[0m \u001b[0mwidget\u001b[0m\u001b[0;34m.\u001b[0m\u001b[0mget_interact_value\u001b[0m\u001b[0;34m(\u001b[0m\u001b[0;34m)\u001b[0m\u001b[0;34m\u001b[0m\u001b[0m\n\u001b[1;32m    250\u001b[0m                     \u001b[0mself\u001b[0m\u001b[0;34m.\u001b[0m\u001b[0mkwargs\u001b[0m\u001b[0;34m[\u001b[0m\u001b[0mwidget\u001b[0m\u001b[0;34m.\u001b[0m\u001b[0m_kwarg\u001b[0m\u001b[0;34m]\u001b[0m \u001b[0;34m=\u001b[0m \u001b[0mvalue\u001b[0m\u001b[0;34m\u001b[0m\u001b[0m\n\u001b[0;32m--> 251\u001b[0;31m                 \u001b[0mself\u001b[0m\u001b[0;34m.\u001b[0m\u001b[0mresult\u001b[0m \u001b[0;34m=\u001b[0m \u001b[0mself\u001b[0m\u001b[0;34m.\u001b[0m\u001b[0mf\u001b[0m\u001b[0;34m(\u001b[0m\u001b[0;34m**\u001b[0m\u001b[0mself\u001b[0m\u001b[0;34m.\u001b[0m\u001b[0mkwargs\u001b[0m\u001b[0;34m)\u001b[0m\u001b[0;34m\u001b[0m\u001b[0m\n\u001b[0m\u001b[1;32m    252\u001b[0m                 \u001b[0mshow_inline_matplotlib_plots\u001b[0m\u001b[0;34m(\u001b[0m\u001b[0;34m)\u001b[0m\u001b[0;34m\u001b[0m\u001b[0m\n\u001b[1;32m    253\u001b[0m                 \u001b[0;32mif\u001b[0m \u001b[0mself\u001b[0m\u001b[0;34m.\u001b[0m\u001b[0mauto_display\u001b[0m \u001b[0;32mand\u001b[0m \u001b[0mself\u001b[0m\u001b[0;34m.\u001b[0m\u001b[0mresult\u001b[0m \u001b[0;32mis\u001b[0m \u001b[0;32mnot\u001b[0m \u001b[0;32mNone\u001b[0m\u001b[0;34m:\u001b[0m\u001b[0;34m\u001b[0m\u001b[0m\n",
          "\u001b[0;32m<ipython-input-211-7f3d1a96148e>\u001b[0m in \u001b[0;36mshow_arbitrage_future\u001b[0;34m(Pull, Call)\u001b[0m\n\u001b[1;32m      1\u001b[0m \u001b[0;34m@\u001b[0m\u001b[0minteract\u001b[0m\u001b[0;34m\u001b[0m\u001b[0m\n\u001b[1;32m      2\u001b[0m \u001b[0;32mdef\u001b[0m \u001b[0mshow_arbitrage_future\u001b[0m\u001b[0;34m(\u001b[0m\u001b[0mPull\u001b[0m\u001b[0;34m=\u001b[0m\u001b[0;34m(\u001b[0m\u001b[0;36m9900\u001b[0m\u001b[0;34m,\u001b[0m \u001b[0;36m12000\u001b[0m\u001b[0;34m,\u001b[0m \u001b[0;36m100\u001b[0m\u001b[0;34m)\u001b[0m\u001b[0;34m,\u001b[0m\u001b[0mCall\u001b[0m\u001b[0;34m=\u001b[0m\u001b[0;34m(\u001b[0m\u001b[0;36m9900\u001b[0m\u001b[0;34m,\u001b[0m \u001b[0;36m12000\u001b[0m\u001b[0;34m,\u001b[0m \u001b[0;36m100\u001b[0m\u001b[0;34m)\u001b[0m\u001b[0;34m)\u001b[0m\u001b[0;34m:\u001b[0m\u001b[0;34m\u001b[0m\u001b[0m\n\u001b[0;32m----> 3\u001b[0;31m     \u001b[0;32mreturn\u001b[0m \u001b[0marb_future\u001b[0m\u001b[0;34m(\u001b[0m\u001b[0mTaiTotal\u001b[0m\u001b[0;34m,\u001b[0m\u001b[0mPull\u001b[0m\u001b[0;34m,\u001b[0m\u001b[0mCall\u001b[0m\u001b[0;34m,\u001b[0m\u001b[0mC\u001b[0m\u001b[0;34m,\u001b[0m\u001b[0mP\u001b[0m\u001b[0;34m)\u001b[0m\u001b[0;34m\u001b[0m\u001b[0m\n\u001b[0m",
          "\u001b[0;32m<ipython-input-210-9803288deda9>\u001b[0m in \u001b[0;36marb_future\u001b[0;34m(df_, S1, S2, C, P)\u001b[0m\n\u001b[1;32m      2\u001b[0m     \u001b[0mdf\u001b[0m\u001b[0;34m=\u001b[0m\u001b[0mdf_\u001b[0m\u001b[0;34m.\u001b[0m\u001b[0mcopy\u001b[0m\u001b[0;34m(\u001b[0m\u001b[0;34m)\u001b[0m\u001b[0;34m\u001b[0m\u001b[0m\n\u001b[1;32m      3\u001b[0m     \u001b[0mdf\u001b[0m\u001b[0;34m[\u001b[0m\u001b[0;34m'cp'\u001b[0m\u001b[0;34m]\u001b[0m\u001b[0;34m=\u001b[0m\u001b[0mdf\u001b[0m\u001b[0;34m[\u001b[0m\u001b[0;34m'買價'\u001b[0m\u001b[0;34m]\u001b[0m\u001b[0;34m.\u001b[0m\u001b[0mastype\u001b[0m\u001b[0;34m(\u001b[0m\u001b[0mfloat\u001b[0m\u001b[0;34m)\u001b[0m\u001b[0;34m-\u001b[0m\u001b[0mdf\u001b[0m\u001b[0;34m[\u001b[0m\u001b[0;34m'賣價'\u001b[0m\u001b[0;34m]\u001b[0m\u001b[0;34m.\u001b[0m\u001b[0mastype\u001b[0m\u001b[0;34m(\u001b[0m\u001b[0;34m'float'\u001b[0m\u001b[0;34m)\u001b[0m\u001b[0;34m\u001b[0m\u001b[0m\n\u001b[0;32m----> 4\u001b[0;31m     \u001b[0mdf\u001b[0m\u001b[0;34m[\u001b[0m\u001b[0;34m'b'\u001b[0m\u001b[0;34m]\u001b[0m\u001b[0;34m=\u001b[0m\u001b[0mS1\u001b[0m\u001b[0;34m-\u001b[0m\u001b[0mdf\u001b[0m\u001b[0;34m[\u001b[0m\u001b[0;34m'買權 履約價'\u001b[0m\u001b[0;34m]\u001b[0m\u001b[0;34m.\u001b[0m\u001b[0mastype\u001b[0m\u001b[0;34m(\u001b[0m\u001b[0mfloat\u001b[0m\u001b[0;34m)\u001b[0m\u001b[0;34m(\u001b[0m\u001b[0;36m1\u001b[0m\u001b[0;34m+\u001b[0m\u001b[0mr\u001b[0m\u001b[0;34m)\u001b[0m\u001b[0;34m**\u001b[0m\u001b[0;34m(\u001b[0m\u001b[0;36m1\u001b[0m\u001b[0;34m/\u001b[0m\u001b[0;36m12\u001b[0m\u001b[0;34m)\u001b[0m\u001b[0;34m\u001b[0m\u001b[0m\n\u001b[0m\u001b[1;32m      5\u001b[0m     \u001b[0mdf\u001b[0m\u001b[0;34m[\u001b[0m\u001b[0;34m'arbitrage'\u001b[0m\u001b[0;34m]\u001b[0m\u001b[0;34m=\u001b[0m\u001b[0;34m(\u001b[0m\u001b[0mdf\u001b[0m\u001b[0;34m[\u001b[0m\u001b[0;34m'b'\u001b[0m\u001b[0;34m]\u001b[0m\u001b[0;34m-\u001b[0m\u001b[0mdf\u001b[0m\u001b[0;34m[\u001b[0m\u001b[0;34m'cp'\u001b[0m\u001b[0;34m]\u001b[0m\u001b[0;34m)\u001b[0m\u001b[0;34m.\u001b[0m\u001b[0mmap\u001b[0m\u001b[0;34m(\u001b[0m\u001b[0;34m'{:,.2f}'\u001b[0m\u001b[0;34m.\u001b[0m\u001b[0mformat\u001b[0m\u001b[0;34m)\u001b[0m\u001b[0;34m\u001b[0m\u001b[0m\n\u001b[1;32m      6\u001b[0m     \u001b[0;31m#df['arbitrage']=df['買權 履約價'].apply(lambda K:arbitrage(C,P,S,float(K),r))\u001b[0m\u001b[0;34m\u001b[0m\u001b[0;34m\u001b[0m\u001b[0m\n",
          "\u001b[0;31mTypeError\u001b[0m: 'Series' object is not callable"
         ]
        }
       ]
      }
     },
     "2fabf6210dfd44ddb29a843d4192e5ed": {
      "model_module": "@jupyter-widgets/controls",
      "model_module_version": "1.4.0",
      "model_name": "VBoxModel",
      "state": {
       "_dom_classes": [
        "widget-interact"
       ],
       "children": [
        "IPY_MODEL_594320f3df284b94a64b4096d7421c7f",
        "IPY_MODEL_648e37d9218b48889a01cc2b2dbe4831",
        "IPY_MODEL_4af0b0a7ba0b46e9b70d81a77b1aeba2"
       ],
       "layout": "IPY_MODEL_ac103bdb45294ee1b3af596efcb4d8f6"
      }
     },
     "2fc45dd268594bba9fe92e7a15c15edb": {
      "model_module": "@jupyter-widgets/controls",
      "model_module_version": "1.4.0",
      "model_name": "VBoxModel",
      "state": {
       "_dom_classes": [
        "widget-interact"
       ],
       "children": [
        "IPY_MODEL_d044216c6a114ab08c8141863c6f1920",
        "IPY_MODEL_f96898458d9b42d29a97ea14d6765884",
        "IPY_MODEL_1ea91298dff14d07b85331e730ed189e"
       ],
       "layout": "IPY_MODEL_4fe52864a6fd46a38445792888e18ea4"
      }
     },
     "3365fcfb0619433ba221b18ca4baba92": {
      "model_module": "@jupyter-widgets/controls",
      "model_module_version": "1.4.0",
      "model_name": "SliderStyleModel",
      "state": {
       "description_width": ""
      }
     },
     "33848b5b77a548dcb9db5755caa0d7a0": {
      "model_module": "@jupyter-widgets/base",
      "model_module_version": "1.1.0",
      "model_name": "LayoutModel",
      "state": {}
     },
     "35dc3f320088430b8aa8a864285c1e04": {
      "model_module": "@jupyter-widgets/output",
      "model_module_version": "1.0.0",
      "model_name": "OutputModel",
      "state": {
       "layout": "IPY_MODEL_9bf85893d0c8410d8946605a0d29195a",
       "outputs": [
        {
         "name": "stdout",
         "output_type": "stream",
         "text": "買權 履約價   Arbitrage   賣權 履約價   Arbitrage\n9900            45.06        9900     16.06\n10000           -9.78       10000    -84.28\n10100         -179.63       10100   -183.13\n10200         -277.48       10200   -283.98\n10300         -380.33       10300   -383.33\n10400         -481.18       10400   -483.18\n10500         -583.02       10500   -583.02\n10600         -681.87       10600   -680.87\n10700         -782.72       10700   -779.72\n10800         -883.57       10800   -878.57\n10900         -983.42       10900   -979.42\n11000       -1,082.76       11000 -1,079.26\n11100       -1,182.61       11100 -1,168.11\n"
        }
       ]
      }
     },
     "3654854d168b48b6b548ba58d8a934a1": {
      "model_module": "@jupyter-widgets/controls",
      "model_module_version": "1.4.0",
      "model_name": "SliderStyleModel",
      "state": {
       "description_width": ""
      }
     },
     "365e9eecbdc1407c92149a6f301a6281": {
      "model_module": "@jupyter-widgets/base",
      "model_module_version": "1.1.0",
      "model_name": "LayoutModel",
      "state": {}
     },
     "385ea0a92d7c4ae6b332bab98d572b74": {
      "model_module": "@jupyter-widgets/output",
      "model_module_version": "1.0.0",
      "model_name": "OutputModel",
      "state": {
       "layout": "IPY_MODEL_6024adf10765416892d750f077204039",
       "outputs": [
        {
         "ename": "TypeError",
         "evalue": "'Series' object is not callable",
         "output_type": "error",
         "traceback": [
          "\u001b[0;31m---------------------------------------------------------------------------\u001b[0m",
          "\u001b[0;31mTypeError\u001b[0m                                 Traceback (most recent call last)",
          "\u001b[0;32m~/anaconda36/anaconda/lib/python3.6/site-packages/ipywidgets/widgets/interaction.py\u001b[0m in \u001b[0;36mupdate\u001b[0;34m(self, *args)\u001b[0m\n\u001b[1;32m    249\u001b[0m                     \u001b[0mvalue\u001b[0m \u001b[0;34m=\u001b[0m \u001b[0mwidget\u001b[0m\u001b[0;34m.\u001b[0m\u001b[0mget_interact_value\u001b[0m\u001b[0;34m(\u001b[0m\u001b[0;34m)\u001b[0m\u001b[0;34m\u001b[0m\u001b[0m\n\u001b[1;32m    250\u001b[0m                     \u001b[0mself\u001b[0m\u001b[0;34m.\u001b[0m\u001b[0mkwargs\u001b[0m\u001b[0;34m[\u001b[0m\u001b[0mwidget\u001b[0m\u001b[0;34m.\u001b[0m\u001b[0m_kwarg\u001b[0m\u001b[0;34m]\u001b[0m \u001b[0;34m=\u001b[0m \u001b[0mvalue\u001b[0m\u001b[0;34m\u001b[0m\u001b[0m\n\u001b[0;32m--> 251\u001b[0;31m                 \u001b[0mself\u001b[0m\u001b[0;34m.\u001b[0m\u001b[0mresult\u001b[0m \u001b[0;34m=\u001b[0m \u001b[0mself\u001b[0m\u001b[0;34m.\u001b[0m\u001b[0mf\u001b[0m\u001b[0;34m(\u001b[0m\u001b[0;34m**\u001b[0m\u001b[0mself\u001b[0m\u001b[0;34m.\u001b[0m\u001b[0mkwargs\u001b[0m\u001b[0;34m)\u001b[0m\u001b[0;34m\u001b[0m\u001b[0m\n\u001b[0m\u001b[1;32m    252\u001b[0m                 \u001b[0mshow_inline_matplotlib_plots\u001b[0m\u001b[0;34m(\u001b[0m\u001b[0;34m)\u001b[0m\u001b[0;34m\u001b[0m\u001b[0m\n\u001b[1;32m    253\u001b[0m                 \u001b[0;32mif\u001b[0m \u001b[0mself\u001b[0m\u001b[0;34m.\u001b[0m\u001b[0mauto_display\u001b[0m \u001b[0;32mand\u001b[0m \u001b[0mself\u001b[0m\u001b[0;34m.\u001b[0m\u001b[0mresult\u001b[0m \u001b[0;32mis\u001b[0m \u001b[0;32mnot\u001b[0m \u001b[0;32mNone\u001b[0m\u001b[0;34m:\u001b[0m\u001b[0;34m\u001b[0m\u001b[0m\n",
          "\u001b[0;32m<ipython-input-214-e811857a489e>\u001b[0m in \u001b[0;36mshow_arbitrage_future\u001b[0;34m(Pull, Call)\u001b[0m\n\u001b[1;32m      1\u001b[0m \u001b[0;34m@\u001b[0m\u001b[0minteract\u001b[0m\u001b[0;34m\u001b[0m\u001b[0m\n\u001b[1;32m      2\u001b[0m \u001b[0;32mdef\u001b[0m \u001b[0mshow_arbitrage_future\u001b[0m\u001b[0;34m(\u001b[0m\u001b[0mPull\u001b[0m\u001b[0;34m=\u001b[0m\u001b[0;34m(\u001b[0m\u001b[0;36m9900\u001b[0m\u001b[0;34m,\u001b[0m \u001b[0;36m12000\u001b[0m\u001b[0;34m,\u001b[0m \u001b[0;36m100\u001b[0m\u001b[0;34m)\u001b[0m\u001b[0;34m,\u001b[0m\u001b[0mCall\u001b[0m\u001b[0;34m=\u001b[0m\u001b[0;34m(\u001b[0m\u001b[0;36m9900\u001b[0m\u001b[0;34m,\u001b[0m \u001b[0;36m12000\u001b[0m\u001b[0;34m,\u001b[0m \u001b[0;36m100\u001b[0m\u001b[0;34m)\u001b[0m\u001b[0;34m)\u001b[0m\u001b[0;34m:\u001b[0m\u001b[0;34m\u001b[0m\u001b[0m\n\u001b[0;32m----> 3\u001b[0;31m     \u001b[0;32mreturn\u001b[0m \u001b[0marb_future\u001b[0m\u001b[0;34m(\u001b[0m\u001b[0mTaiTotal\u001b[0m\u001b[0;34m,\u001b[0m\u001b[0mPull\u001b[0m\u001b[0;34m,\u001b[0m\u001b[0mCall\u001b[0m\u001b[0;34m)\u001b[0m\u001b[0;34m\u001b[0m\u001b[0m\n\u001b[0m",
          "\u001b[0;32m<ipython-input-213-60022d115ca9>\u001b[0m in \u001b[0;36marb_future\u001b[0;34m(df_, S1, S2)\u001b[0m\n\u001b[1;32m      2\u001b[0m     \u001b[0mdf\u001b[0m\u001b[0;34m=\u001b[0m\u001b[0mdf_\u001b[0m\u001b[0;34m.\u001b[0m\u001b[0mcopy\u001b[0m\u001b[0;34m(\u001b[0m\u001b[0;34m)\u001b[0m\u001b[0;34m\u001b[0m\u001b[0m\n\u001b[1;32m      3\u001b[0m     \u001b[0mdf\u001b[0m\u001b[0;34m[\u001b[0m\u001b[0;34m'cp'\u001b[0m\u001b[0;34m]\u001b[0m\u001b[0;34m=\u001b[0m\u001b[0mdf\u001b[0m\u001b[0;34m[\u001b[0m\u001b[0;34m'買價'\u001b[0m\u001b[0;34m]\u001b[0m\u001b[0;34m.\u001b[0m\u001b[0mastype\u001b[0m\u001b[0;34m(\u001b[0m\u001b[0mfloat\u001b[0m\u001b[0;34m)\u001b[0m\u001b[0;34m-\u001b[0m\u001b[0mdf\u001b[0m\u001b[0;34m[\u001b[0m\u001b[0;34m'賣價'\u001b[0m\u001b[0;34m]\u001b[0m\u001b[0;34m.\u001b[0m\u001b[0mastype\u001b[0m\u001b[0;34m(\u001b[0m\u001b[0;34m'float'\u001b[0m\u001b[0;34m)\u001b[0m\u001b[0;34m\u001b[0m\u001b[0m\n\u001b[0;32m----> 4\u001b[0;31m     \u001b[0mdf\u001b[0m\u001b[0;34m[\u001b[0m\u001b[0;34m'b'\u001b[0m\u001b[0;34m]\u001b[0m\u001b[0;34m=\u001b[0m\u001b[0mS1\u001b[0m\u001b[0;34m-\u001b[0m\u001b[0mdf\u001b[0m\u001b[0;34m[\u001b[0m\u001b[0;34m'買權 履約價'\u001b[0m\u001b[0;34m]\u001b[0m\u001b[0;34m.\u001b[0m\u001b[0mastype\u001b[0m\u001b[0;34m(\u001b[0m\u001b[0mfloat\u001b[0m\u001b[0;34m)\u001b[0m\u001b[0;34m(\u001b[0m\u001b[0;36m1\u001b[0m\u001b[0;34m+\u001b[0m\u001b[0mr\u001b[0m\u001b[0;34m)\u001b[0m\u001b[0;34m**\u001b[0m\u001b[0;34m(\u001b[0m\u001b[0;36m1\u001b[0m\u001b[0;34m/\u001b[0m\u001b[0;36m12\u001b[0m\u001b[0;34m)\u001b[0m\u001b[0;34m\u001b[0m\u001b[0m\n\u001b[0m\u001b[1;32m      5\u001b[0m     \u001b[0mdf\u001b[0m\u001b[0;34m[\u001b[0m\u001b[0;34m'arbitrage'\u001b[0m\u001b[0;34m]\u001b[0m\u001b[0;34m=\u001b[0m\u001b[0;34m(\u001b[0m\u001b[0mdf\u001b[0m\u001b[0;34m[\u001b[0m\u001b[0;34m'b'\u001b[0m\u001b[0;34m]\u001b[0m\u001b[0;34m-\u001b[0m\u001b[0mdf\u001b[0m\u001b[0;34m[\u001b[0m\u001b[0;34m'cp'\u001b[0m\u001b[0;34m]\u001b[0m\u001b[0;34m)\u001b[0m\u001b[0;34m.\u001b[0m\u001b[0mmap\u001b[0m\u001b[0;34m(\u001b[0m\u001b[0;34m'{:,.2f}'\u001b[0m\u001b[0;34m.\u001b[0m\u001b[0mformat\u001b[0m\u001b[0;34m)\u001b[0m\u001b[0;34m\u001b[0m\u001b[0m\n\u001b[1;32m      6\u001b[0m     \u001b[0;31m#df['arbitrage']=df['買權 履約價'].apply(lambda K:arbitrage(C,P,S,float(K),r))\u001b[0m\u001b[0;34m\u001b[0m\u001b[0;34m\u001b[0m\u001b[0m\n",
          "\u001b[0;31mTypeError\u001b[0m: 'Series' object is not callable"
         ]
        }
       ]
      }
     },
     "3ebcb2da4195446fb6f6e584c445cbe9": {
      "model_module": "@jupyter-widgets/controls",
      "model_module_version": "1.4.0",
      "model_name": "SliderStyleModel",
      "state": {
       "description_width": ""
      }
     },
     "3f01087047ef4428bae83c434acb08de": {
      "model_module": "@jupyter-widgets/base",
      "model_module_version": "1.1.0",
      "model_name": "LayoutModel",
      "state": {}
     },
     "4057b1f617d9431d9e0f374297c5cf6b": {
      "model_module": "@jupyter-widgets/controls",
      "model_module_version": "1.4.0",
      "model_name": "VBoxModel",
      "state": {
       "_dom_classes": [
        "widget-interact"
       ],
       "children": [
        "IPY_MODEL_4bc1d35a77dd415ab64b728009bdb4e8",
        "IPY_MODEL_6ea1b7a75798487e96461e6527dd8024",
        "IPY_MODEL_52e513a5461a49e9a50447b5a8678dee"
       ],
       "layout": "IPY_MODEL_6d2fe07e6e414192afe587b0c8aa8dd5"
      }
     },
     "426f99674978417782121c655feba9bd": {
      "model_module": "@jupyter-widgets/output",
      "model_module_version": "1.0.0",
      "model_name": "OutputModel",
      "state": {
       "layout": "IPY_MODEL_2ac09e4ae71d4fb3a82bd917b50eb52d",
       "outputs": [
        {
         "ename": "TypeError",
         "evalue": "arb() missing 2 required positional arguments: 'C' and 'P'",
         "output_type": "error",
         "traceback": [
          "\u001b[0;31m---------------------------------------------------------------------------\u001b[0m",
          "\u001b[0;31mTypeError\u001b[0m                                 Traceback (most recent call last)",
          "\u001b[0;32m~/anaconda36/anaconda/lib/python3.6/site-packages/ipywidgets/widgets/interaction.py\u001b[0m in \u001b[0;36mupdate\u001b[0;34m(self, *args)\u001b[0m\n\u001b[1;32m    249\u001b[0m                     \u001b[0mvalue\u001b[0m \u001b[0;34m=\u001b[0m \u001b[0mwidget\u001b[0m\u001b[0;34m.\u001b[0m\u001b[0mget_interact_value\u001b[0m\u001b[0;34m(\u001b[0m\u001b[0;34m)\u001b[0m\u001b[0;34m\u001b[0m\u001b[0m\n\u001b[1;32m    250\u001b[0m                     \u001b[0mself\u001b[0m\u001b[0;34m.\u001b[0m\u001b[0mkwargs\u001b[0m\u001b[0;34m[\u001b[0m\u001b[0mwidget\u001b[0m\u001b[0;34m.\u001b[0m\u001b[0m_kwarg\u001b[0m\u001b[0;34m]\u001b[0m \u001b[0;34m=\u001b[0m \u001b[0mvalue\u001b[0m\u001b[0;34m\u001b[0m\u001b[0m\n\u001b[0;32m--> 251\u001b[0;31m                 \u001b[0mself\u001b[0m\u001b[0;34m.\u001b[0m\u001b[0mresult\u001b[0m \u001b[0;34m=\u001b[0m \u001b[0mself\u001b[0m\u001b[0;34m.\u001b[0m\u001b[0mf\u001b[0m\u001b[0;34m(\u001b[0m\u001b[0;34m**\u001b[0m\u001b[0mself\u001b[0m\u001b[0;34m.\u001b[0m\u001b[0mkwargs\u001b[0m\u001b[0;34m)\u001b[0m\u001b[0;34m\u001b[0m\u001b[0m\n\u001b[0m\u001b[1;32m    252\u001b[0m                 \u001b[0mshow_inline_matplotlib_plots\u001b[0m\u001b[0;34m(\u001b[0m\u001b[0;34m)\u001b[0m\u001b[0;34m\u001b[0m\u001b[0m\n\u001b[1;32m    253\u001b[0m                 \u001b[0;32mif\u001b[0m \u001b[0mself\u001b[0m\u001b[0;34m.\u001b[0m\u001b[0mauto_display\u001b[0m \u001b[0;32mand\u001b[0m \u001b[0mself\u001b[0m\u001b[0;34m.\u001b[0m\u001b[0mresult\u001b[0m \u001b[0;32mis\u001b[0m \u001b[0;32mnot\u001b[0m \u001b[0;32mNone\u001b[0m\u001b[0;34m:\u001b[0m\u001b[0;34m\u001b[0m\u001b[0m\n",
          "\u001b[0;32m<ipython-input-221-185082b691a3>\u001b[0m in \u001b[0;36mshow_arbitrage\u001b[0;34m(Pull, Call)\u001b[0m\n\u001b[1;32m      1\u001b[0m \u001b[0;34m@\u001b[0m\u001b[0minteract\u001b[0m\u001b[0;34m\u001b[0m\u001b[0m\n\u001b[1;32m      2\u001b[0m \u001b[0;32mdef\u001b[0m \u001b[0mshow_arbitrage\u001b[0m\u001b[0;34m(\u001b[0m\u001b[0mPull\u001b[0m\u001b[0;34m=\u001b[0m\u001b[0;34m(\u001b[0m\u001b[0;36m9900\u001b[0m\u001b[0;34m,\u001b[0m \u001b[0;36m12000\u001b[0m\u001b[0;34m,\u001b[0m \u001b[0;36m100\u001b[0m\u001b[0;34m)\u001b[0m\u001b[0;34m,\u001b[0m\u001b[0mCall\u001b[0m\u001b[0;34m=\u001b[0m\u001b[0;34m(\u001b[0m\u001b[0;36m9900\u001b[0m\u001b[0;34m,\u001b[0m \u001b[0;36m12000\u001b[0m\u001b[0;34m,\u001b[0m \u001b[0;36m100\u001b[0m\u001b[0;34m)\u001b[0m\u001b[0;34m)\u001b[0m\u001b[0;34m:\u001b[0m\u001b[0;34m\u001b[0m\u001b[0m\n\u001b[0;32m----> 3\u001b[0;31m     \u001b[0;32mreturn\u001b[0m \u001b[0marb\u001b[0m\u001b[0;34m(\u001b[0m\u001b[0mTaiTotal\u001b[0m\u001b[0;34m,\u001b[0m\u001b[0mPull\u001b[0m\u001b[0;34m,\u001b[0m\u001b[0mCall\u001b[0m\u001b[0;34m)\u001b[0m\u001b[0;34m\u001b[0m\u001b[0m\n\u001b[0m",
          "\u001b[0;31mTypeError\u001b[0m: arb() missing 2 required positional arguments: 'C' and 'P'"
         ]
        }
       ]
      }
     },
     "44d9612f69574899b7d088df1535ec8c": {
      "model_module": "@jupyter-widgets/base",
      "model_module_version": "1.1.0",
      "model_name": "LayoutModel",
      "state": {}
     },
     "451fb9a132614ddaa4534900932fcd22": {
      "model_module": "@jupyter-widgets/controls",
      "model_module_version": "1.4.0",
      "model_name": "VBoxModel",
      "state": {
       "_dom_classes": [
        "widget-interact"
       ],
       "children": [
        "IPY_MODEL_82071a6cbe9b4fe78ed3ef68785f0faa",
        "IPY_MODEL_87637377c6af467f936a1ba47a5214df",
        "IPY_MODEL_14c64b290af84aaca67870e282859dce"
       ],
       "layout": "IPY_MODEL_bd36bef50e0f48bcbaa5c6d013ec46c7"
      }
     },
     "47b5025d73da4eca86c68897e05381a7": {
      "model_module": "@jupyter-widgets/controls",
      "model_module_version": "1.4.0",
      "model_name": "IntSliderModel",
      "state": {
       "description": "S1",
       "layout": "IPY_MODEL_e2e114fce5364651b97506a8404801ca",
       "max": 30000,
       "min": -10000,
       "style": "IPY_MODEL_211605c1d2ca4ddfb4143c7ad12327c7",
       "value": 8012
      }
     },
     "488f4f21a7464a2b8aa11b5d89fe8837": {
      "model_module": "@jupyter-widgets/controls",
      "model_module_version": "1.4.0",
      "model_name": "SliderStyleModel",
      "state": {
       "description_width": ""
      }
     },
     "4af0b0a7ba0b46e9b70d81a77b1aeba2": {
      "model_module": "@jupyter-widgets/output",
      "model_module_version": "1.0.0",
      "model_name": "OutputModel",
      "state": {
       "layout": "IPY_MODEL_5abddd59b7df41d695396588c9971695",
       "outputs": [
        {
         "name": "stdout",
         "output_type": "stream",
         "text": "買權 履約價   Arbitrage   賣權 履約價   Arbitrage\n9900           445.06        9900    416.06\n10000          390.22       10000    315.72\n10100          220.37       10100    216.87\n10200          122.52       10200    116.02\n10300           19.67       10300     16.67\n10400          -81.18       10400    -83.18\n10500         -183.02       10500   -183.02\n10600         -281.87       10600   -280.87\n10700         -382.72       10700   -379.72\n10800         -483.57       10800   -478.57\n10900         -583.42       10900   -579.42\n11000         -682.76       11000   -679.26\n11100         -782.61       11100   -768.11\n"
        }
       ]
      }
     },
     "4ba717e212c24d059e39936f92757ec7": {
      "model_module": "@jupyter-widgets/controls",
      "model_module_version": "1.4.0",
      "model_name": "VBoxModel",
      "state": {
       "_dom_classes": [
        "widget-interact"
       ],
       "layout": "IPY_MODEL_77c654b7e90743c38b039121b09e0ed4"
      }
     },
     "4bc1d35a77dd415ab64b728009bdb4e8": {
      "model_module": "@jupyter-widgets/controls",
      "model_module_version": "1.4.0",
      "model_name": "IntSliderModel",
      "state": {
       "description": "Pull",
       "layout": "IPY_MODEL_907d38858bcb4fafac149bfc7d909ed7",
       "max": 12000,
       "min": 9900,
       "step": 100,
       "style": "IPY_MODEL_944bfd1ebe4a463ebecdbbf157f55ea1",
       "value": 10000
      }
     },
     "4e1073daee164ad7a77446a879430e0a": {
      "model_module": "@jupyter-widgets/base",
      "model_module_version": "1.1.0",
      "model_name": "LayoutModel",
      "state": {}
     },
     "4f4c25ee8bee463aabeaf65d86ba0371": {
      "model_module": "@jupyter-widgets/base",
      "model_module_version": "1.1.0",
      "model_name": "LayoutModel",
      "state": {}
     },
     "4fe52864a6fd46a38445792888e18ea4": {
      "model_module": "@jupyter-widgets/base",
      "model_module_version": "1.1.0",
      "model_name": "LayoutModel",
      "state": {}
     },
     "5116a527006c48c282bc2dfc5612a768": {
      "model_module": "@jupyter-widgets/output",
      "model_module_version": "1.0.0",
      "model_name": "OutputModel",
      "state": {
       "layout": "IPY_MODEL_d6c39851aa534785b8a34b0a84e57920",
       "outputs": [
        {
         "name": "stdout",
         "output_type": "stream",
         "text": "買權 履約價   Arbitrage   賣權 履約價   Arbitrage\n9900           514.91        9900    185.91\n10000          459.76       10000     85.26\n10100          289.61       10100    -13.89\n10200          191.46       10200   -115.04\n10300           88.30       10300   -214.70\n10400          -12.85       10400   -314.85\n10500         -115.00       10500   -415.00\n10600         -214.15       10600   -513.15\n10700         -315.30       10700   -612.30\n10800         -416.46       10800   -711.46\n10900         -516.61       10900   -812.61\n11000         -616.26       11000   -912.76\n11100         -716.41       11100 -1,001.91\n"
        }
       ]
      }
     },
     "52e513a5461a49e9a50447b5a8678dee": {
      "model_module": "@jupyter-widgets/output",
      "model_module_version": "1.0.0",
      "model_name": "OutputModel",
      "state": {
       "layout": "IPY_MODEL_e59600d30051475f8de3333bcfc81863",
       "outputs": [
        {
         "name": "stdout",
         "output_type": "stream",
         "text": "買權 履約價   Arbitrage   賣權 履約價   Arbitrage\n9900           145.06        9900    985.91\n10000           90.22       10000    885.26\n10100          -79.63       10100    786.11\n10200         -177.48       10200    684.96\n10300         -280.33       10300    585.30\n10400         -381.18       10400    485.15\n10500         -483.02       10500    385.00\n10600         -581.87       10600    286.85\n10700         -682.72       10700    187.70\n10800         -783.57       10800     88.54\n10900         -883.42       10900    -12.61\n11000         -982.76       11000   -112.76\n11100       -1,082.61       11100   -201.91\n"
        }
       ]
      }
     },
     "535a3d26436d47cc9414488e5a859d05": {
      "model_module": "@jupyter-widgets/output",
      "model_module_version": "1.0.0",
      "model_name": "OutputModel",
      "state": {
       "layout": "IPY_MODEL_ef87fee567284261b0e5ae1cefafcad7",
       "outputs": [
        {
         "name": "stdout",
         "output_type": "stream",
         "text": "買權 履約價   Arbitrage   賣權 履約價   Arbitrage\n9900         2,114.91        9900  2,085.91\n10000        2,059.76       10000  1,985.26\n10100        1,889.61       10100  1,886.11\n10200        1,791.46       10200  1,784.96\n10300        1,688.30       10300  1,685.30\n10400        1,587.15       10400  1,585.15\n10500        1,485.00       10500  1,485.00\n10600        1,385.85       10600  1,386.85\n10700        1,284.70       10700  1,287.70\n10800        1,183.54       10800  1,188.54\n10900        1,083.39       10900  1,087.39\n11000          983.74       11000    987.24\n11100          883.59       11100    898.09\n"
        }
       ]
      }
     },
     "55706730424443d48763255dcadb41ea": {
      "model_module": "@jupyter-widgets/controls",
      "model_module_version": "1.4.0",
      "model_name": "SliderStyleModel",
      "state": {
       "description_width": ""
      }
     },
     "560f59a613f644199f49767f5117f668": {
      "model_module": "@jupyter-widgets/output",
      "model_module_version": "1.0.0",
      "model_name": "OutputModel",
      "state": {
       "layout": "IPY_MODEL_ebf8e042955a43179652ebbfe94a196e",
       "outputs": [
        {
         "name": "stdout",
         "output_type": "stream",
         "text": "買權 履約價   Arbitrage   賣權 履約價   Arbitrage\n9900           345.06        9900    616.06\n10000          290.22       10000    515.72\n10100          120.37       10100    416.87\n10200           22.52       10200    316.02\n10300          -80.33       10300    216.67\n10400         -181.18       10400    116.82\n10500         -283.02       10500     16.98\n10600         -381.87       10600    -80.87\n10700         -482.72       10700   -179.72\n10800         -583.57       10800   -278.57\n10900         -683.42       10900   -379.42\n11000         -782.76       11000   -479.26\n11100         -882.61       11100   -568.11\n"
        }
       ]
      }
     },
     "5846b2eefb8649bdac0a279eaa3fee82": {
      "model_module": "@jupyter-widgets/controls",
      "model_module_version": "1.4.0",
      "model_name": "SliderStyleModel",
      "state": {
       "description_width": ""
      }
     },
     "58a3284b903347e281069b3aa52f526c": {
      "model_module": "@jupyter-widgets/base",
      "model_module_version": "1.1.0",
      "model_name": "LayoutModel",
      "state": {}
     },
     "594320f3df284b94a64b4096d7421c7f": {
      "model_module": "@jupyter-widgets/controls",
      "model_module_version": "1.4.0",
      "model_name": "IntSliderModel",
      "state": {
       "description": "Pull",
       "layout": "IPY_MODEL_193046223313468cb3f0a2c514ee1335",
       "max": 12000,
       "min": 9900,
       "step": 100,
       "style": "IPY_MODEL_638c4d5995254daf995e7f236ca003cd",
       "value": 10300
      }
     },
     "5abddd59b7df41d695396588c9971695": {
      "model_module": "@jupyter-widgets/base",
      "model_module_version": "1.1.0",
      "model_name": "LayoutModel",
      "state": {}
     },
     "5bd834bc53a543c49582e1d07e49ab67": {
      "model_module": "@jupyter-widgets/base",
      "model_module_version": "1.1.0",
      "model_name": "LayoutModel",
      "state": {}
     },
     "5e9f02b77efb4367aa7f10551fc0a0f8": {
      "model_module": "@jupyter-widgets/base",
      "model_module_version": "1.1.0",
      "model_name": "LayoutModel",
      "state": {}
     },
     "6024adf10765416892d750f077204039": {
      "model_module": "@jupyter-widgets/base",
      "model_module_version": "1.1.0",
      "model_name": "LayoutModel",
      "state": {}
     },
     "61e864e729bd442ba0f7bedaeaa6567e": {
      "model_module": "@jupyter-widgets/base",
      "model_module_version": "1.1.0",
      "model_name": "LayoutModel",
      "state": {}
     },
     "627f90303837477c85870e9c7cbc4f13": {
      "model_module": "@jupyter-widgets/controls",
      "model_module_version": "1.4.0",
      "model_name": "SliderStyleModel",
      "state": {
       "description_width": ""
      }
     },
     "62d5420d75764992bf2395b8e0064abf": {
      "model_module": "@jupyter-widgets/controls",
      "model_module_version": "1.4.0",
      "model_name": "SliderStyleModel",
      "state": {
       "description_width": ""
      }
     },
     "638c4d5995254daf995e7f236ca003cd": {
      "model_module": "@jupyter-widgets/controls",
      "model_module_version": "1.4.0",
      "model_name": "SliderStyleModel",
      "state": {
       "description_width": ""
      }
     },
     "648e37d9218b48889a01cc2b2dbe4831": {
      "model_module": "@jupyter-widgets/controls",
      "model_module_version": "1.4.0",
      "model_name": "IntSliderModel",
      "state": {
       "description": "Call",
       "layout": "IPY_MODEL_180346af9b6141fdb65bfe619e49b3a8",
       "max": 12000,
       "min": 9900,
       "step": 100,
       "style": "IPY_MODEL_c142ec2119e7433ab11895d4f6a5b4be",
       "value": 10300
      }
     },
     "64b8bef24e614dd3aff8d2213d7937c9": {
      "model_module": "@jupyter-widgets/controls",
      "model_module_version": "1.4.0",
      "model_name": "IntSliderModel",
      "state": {
       "description": "Pull",
       "layout": "IPY_MODEL_22362b56d0a3423da287f993b3d97a2f",
       "max": 12000,
       "min": 9900,
       "step": 100,
       "style": "IPY_MODEL_1c94bea68fe1490c8751a8c260ff66f0",
       "value": 9900
      }
     },
     "676dfe227c1b47599da9a6e0733433b1": {
      "model_module": "@jupyter-widgets/output",
      "model_module_version": "1.0.0",
      "model_name": "OutputModel",
      "state": {
       "layout": "IPY_MODEL_7ba77884c413449aa7965ec2fe4829f2",
       "outputs": [
        {
         "ename": "TypeError",
         "evalue": "'Series' object is not callable",
         "output_type": "error",
         "traceback": [
          "\u001b[0;31m---------------------------------------------------------------------------\u001b[0m",
          "\u001b[0;31mTypeError\u001b[0m                                 Traceback (most recent call last)",
          "\u001b[0;32m~/anaconda36/anaconda/lib/python3.6/site-packages/ipywidgets/widgets/interaction.py\u001b[0m in \u001b[0;36mupdate\u001b[0;34m(self, *args)\u001b[0m\n\u001b[1;32m    249\u001b[0m                     \u001b[0mvalue\u001b[0m \u001b[0;34m=\u001b[0m \u001b[0mwidget\u001b[0m\u001b[0;34m.\u001b[0m\u001b[0mget_interact_value\u001b[0m\u001b[0;34m(\u001b[0m\u001b[0;34m)\u001b[0m\u001b[0;34m\u001b[0m\u001b[0m\n\u001b[1;32m    250\u001b[0m                     \u001b[0mself\u001b[0m\u001b[0;34m.\u001b[0m\u001b[0mkwargs\u001b[0m\u001b[0;34m[\u001b[0m\u001b[0mwidget\u001b[0m\u001b[0;34m.\u001b[0m\u001b[0m_kwarg\u001b[0m\u001b[0;34m]\u001b[0m \u001b[0;34m=\u001b[0m \u001b[0mvalue\u001b[0m\u001b[0;34m\u001b[0m\u001b[0m\n\u001b[0;32m--> 251\u001b[0;31m                 \u001b[0mself\u001b[0m\u001b[0;34m.\u001b[0m\u001b[0mresult\u001b[0m \u001b[0;34m=\u001b[0m \u001b[0mself\u001b[0m\u001b[0;34m.\u001b[0m\u001b[0mf\u001b[0m\u001b[0;34m(\u001b[0m\u001b[0;34m**\u001b[0m\u001b[0mself\u001b[0m\u001b[0;34m.\u001b[0m\u001b[0mkwargs\u001b[0m\u001b[0;34m)\u001b[0m\u001b[0;34m\u001b[0m\u001b[0m\n\u001b[0m\u001b[1;32m    252\u001b[0m                 \u001b[0mshow_inline_matplotlib_plots\u001b[0m\u001b[0;34m(\u001b[0m\u001b[0;34m)\u001b[0m\u001b[0;34m\u001b[0m\u001b[0m\n\u001b[1;32m    253\u001b[0m                 \u001b[0;32mif\u001b[0m \u001b[0mself\u001b[0m\u001b[0;34m.\u001b[0m\u001b[0mauto_display\u001b[0m \u001b[0;32mand\u001b[0m \u001b[0mself\u001b[0m\u001b[0;34m.\u001b[0m\u001b[0mresult\u001b[0m \u001b[0;32mis\u001b[0m \u001b[0;32mnot\u001b[0m \u001b[0;32mNone\u001b[0m\u001b[0;34m:\u001b[0m\u001b[0;34m\u001b[0m\u001b[0m\n",
          "\u001b[0;32m<ipython-input-209-7f3d1a96148e>\u001b[0m in \u001b[0;36mshow_arbitrage_future\u001b[0;34m(Pull, Call)\u001b[0m\n\u001b[1;32m      1\u001b[0m \u001b[0;34m@\u001b[0m\u001b[0minteract\u001b[0m\u001b[0;34m\u001b[0m\u001b[0m\n\u001b[1;32m      2\u001b[0m \u001b[0;32mdef\u001b[0m \u001b[0mshow_arbitrage_future\u001b[0m\u001b[0;34m(\u001b[0m\u001b[0mPull\u001b[0m\u001b[0;34m=\u001b[0m\u001b[0;34m(\u001b[0m\u001b[0;36m9900\u001b[0m\u001b[0;34m,\u001b[0m \u001b[0;36m12000\u001b[0m\u001b[0;34m,\u001b[0m \u001b[0;36m100\u001b[0m\u001b[0;34m)\u001b[0m\u001b[0;34m,\u001b[0m\u001b[0mCall\u001b[0m\u001b[0;34m=\u001b[0m\u001b[0;34m(\u001b[0m\u001b[0;36m9900\u001b[0m\u001b[0;34m,\u001b[0m \u001b[0;36m12000\u001b[0m\u001b[0;34m,\u001b[0m \u001b[0;36m100\u001b[0m\u001b[0;34m)\u001b[0m\u001b[0;34m)\u001b[0m\u001b[0;34m:\u001b[0m\u001b[0;34m\u001b[0m\u001b[0m\n\u001b[0;32m----> 3\u001b[0;31m     \u001b[0;32mreturn\u001b[0m \u001b[0marb_future\u001b[0m\u001b[0;34m(\u001b[0m\u001b[0mTaiTotal\u001b[0m\u001b[0;34m,\u001b[0m\u001b[0mPull\u001b[0m\u001b[0;34m,\u001b[0m\u001b[0mCall\u001b[0m\u001b[0;34m,\u001b[0m\u001b[0mC\u001b[0m\u001b[0;34m,\u001b[0m\u001b[0mP\u001b[0m\u001b[0;34m)\u001b[0m\u001b[0;34m\u001b[0m\u001b[0m\n\u001b[0m",
          "\u001b[0;32m<ipython-input-208-f276f9a6f116>\u001b[0m in \u001b[0;36marb_future\u001b[0;34m(df_, S1, S2, C, P)\u001b[0m\n\u001b[1;32m      2\u001b[0m     \u001b[0mdf\u001b[0m\u001b[0;34m=\u001b[0m\u001b[0mdf_\u001b[0m\u001b[0;34m.\u001b[0m\u001b[0mcopy\u001b[0m\u001b[0;34m(\u001b[0m\u001b[0;34m)\u001b[0m\u001b[0;34m\u001b[0m\u001b[0m\n\u001b[1;32m      3\u001b[0m     \u001b[0mdf\u001b[0m\u001b[0;34m[\u001b[0m\u001b[0;34m'cp'\u001b[0m\u001b[0;34m]\u001b[0m\u001b[0;34m=\u001b[0m\u001b[0mdf\u001b[0m\u001b[0;34m[\u001b[0m\u001b[0;34m'買價'\u001b[0m\u001b[0;34m]\u001b[0m\u001b[0;34m.\u001b[0m\u001b[0mastype\u001b[0m\u001b[0;34m(\u001b[0m\u001b[0mfloat\u001b[0m\u001b[0;34m)\u001b[0m\u001b[0;34m-\u001b[0m\u001b[0mdf\u001b[0m\u001b[0;34m[\u001b[0m\u001b[0;34m'賣價_'\u001b[0m\u001b[0;34m]\u001b[0m\u001b[0;34m.\u001b[0m\u001b[0mastype\u001b[0m\u001b[0;34m(\u001b[0m\u001b[0;34m'float'\u001b[0m\u001b[0;34m)\u001b[0m\u001b[0;34m\u001b[0m\u001b[0m\n\u001b[0;32m----> 4\u001b[0;31m     \u001b[0mdf\u001b[0m\u001b[0;34m[\u001b[0m\u001b[0;34m'b'\u001b[0m\u001b[0;34m]\u001b[0m\u001b[0;34m=\u001b[0m\u001b[0mS1\u001b[0m\u001b[0;34m-\u001b[0m\u001b[0mdf\u001b[0m\u001b[0;34m[\u001b[0m\u001b[0;34m'買權 履約價'\u001b[0m\u001b[0;34m]\u001b[0m\u001b[0;34m.\u001b[0m\u001b[0mastype\u001b[0m\u001b[0;34m(\u001b[0m\u001b[0mfloat\u001b[0m\u001b[0;34m)\u001b[0m\u001b[0;34m(\u001b[0m\u001b[0;36m1\u001b[0m\u001b[0;34m+\u001b[0m\u001b[0mr\u001b[0m\u001b[0;34m)\u001b[0m\u001b[0;34m**\u001b[0m\u001b[0;34m(\u001b[0m\u001b[0;36m1\u001b[0m\u001b[0;34m/\u001b[0m\u001b[0;36m12\u001b[0m\u001b[0;34m)\u001b[0m\u001b[0;34m\u001b[0m\u001b[0m\n\u001b[0m\u001b[1;32m      5\u001b[0m     \u001b[0mdf\u001b[0m\u001b[0;34m[\u001b[0m\u001b[0;34m'arbitrage'\u001b[0m\u001b[0;34m]\u001b[0m\u001b[0;34m=\u001b[0m\u001b[0;34m(\u001b[0m\u001b[0mdf\u001b[0m\u001b[0;34m[\u001b[0m\u001b[0;34m'b'\u001b[0m\u001b[0;34m]\u001b[0m\u001b[0;34m-\u001b[0m\u001b[0mdf\u001b[0m\u001b[0;34m[\u001b[0m\u001b[0;34m'cp'\u001b[0m\u001b[0;34m]\u001b[0m\u001b[0;34m)\u001b[0m\u001b[0;34m.\u001b[0m\u001b[0mmap\u001b[0m\u001b[0;34m(\u001b[0m\u001b[0;34m'{:,.2f}'\u001b[0m\u001b[0;34m.\u001b[0m\u001b[0mformat\u001b[0m\u001b[0;34m)\u001b[0m\u001b[0;34m\u001b[0m\u001b[0m\n\u001b[1;32m      6\u001b[0m     \u001b[0;31m#df['arbitrage']=df['買權 履約價'].apply(lambda K:arbitrage(C,P,S,float(K),r))\u001b[0m\u001b[0;34m\u001b[0m\u001b[0;34m\u001b[0m\u001b[0m\n",
          "\u001b[0;31mTypeError\u001b[0m: 'Series' object is not callable"
         ]
        }
       ]
      }
     },
     "67e4f66a1ca84d38bc6f46d3022f4032": {
      "model_module": "@jupyter-widgets/output",
      "model_module_version": "1.0.0",
      "model_name": "OutputModel",
      "state": {
       "layout": "IPY_MODEL_ce6caa2d84bc44e3967f7614142bf5c7",
       "outputs": [
        {
         "name": "stdout",
         "output_type": "stream",
         "text": "買權 履約價   Arbitrage   賣權 履約價   Arbitrage\n9900           445.06        9900  1,416.06\n10000          390.22       10000  1,315.72\n10100          220.37       10100  1,216.87\n10200          122.52       10200  1,116.02\n10300           19.67       10300  1,016.67\n10400          -81.18       10400    916.82\n10500         -183.02       10500    816.98\n10600         -281.87       10600    719.13\n10700         -382.72       10700    620.28\n10800         -483.57       10800    521.43\n10900         -583.42       10900    420.58\n11000         -682.76       11000    320.74\n11100         -782.61       11100    231.89\n"
        }
       ]
      }
     },
     "6d2fe07e6e414192afe587b0c8aa8dd5": {
      "model_module": "@jupyter-widgets/base",
      "model_module_version": "1.1.0",
      "model_name": "LayoutModel",
      "state": {}
     },
     "6e125b9e71e344a6a4d2fb4823be6cab": {
      "model_module": "@jupyter-widgets/base",
      "model_module_version": "1.1.0",
      "model_name": "LayoutModel",
      "state": {}
     },
     "6e2a4c5d4d1a4657b60659b6d750c187": {
      "model_module": "@jupyter-widgets/controls",
      "model_module_version": "1.4.0",
      "model_name": "VBoxModel",
      "state": {
       "_dom_classes": [
        "widget-interact"
       ],
       "children": [
        "IPY_MODEL_2079750a3fbc456999be64103f6b157f",
        "IPY_MODEL_948b9d9a2f68487698e6a689144b66ff",
        "IPY_MODEL_385ea0a92d7c4ae6b332bab98d572b74"
       ],
       "layout": "IPY_MODEL_24bdf3e3ca3c499cb6ee8907d442f42d"
      }
     },
     "6e9b88170dbc49cb80e9f611e9aa43a8": {
      "model_module": "@jupyter-widgets/base",
      "model_module_version": "1.1.0",
      "model_name": "LayoutModel",
      "state": {}
     },
     "6ea1b7a75798487e96461e6527dd8024": {
      "model_module": "@jupyter-widgets/controls",
      "model_module_version": "1.4.0",
      "model_name": "IntSliderModel",
      "state": {
       "description": "Call",
       "layout": "IPY_MODEL_b81927f96fd14412934c4f41b47f91e7",
       "max": 12000,
       "min": 9900,
       "step": 100,
       "style": "IPY_MODEL_037242a6aadc4ea9a8833799f915ffad",
       "value": 10900
      }
     },
     "6fab2c2885614de2b6f3a12a9398401e": {
      "model_module": "@jupyter-widgets/controls",
      "model_module_version": "1.4.0",
      "model_name": "SliderStyleModel",
      "state": {
       "description_width": ""
      }
     },
     "70ae8f54c0cc4a0b9cc328dfc6fb42e3": {
      "model_module": "@jupyter-widgets/controls",
      "model_module_version": "1.4.0",
      "model_name": "SliderStyleModel",
      "state": {
       "description_width": ""
      }
     },
     "733338204e6d4ff989ccc0f1864d9a06": {
      "model_module": "@jupyter-widgets/base",
      "model_module_version": "1.1.0",
      "model_name": "LayoutModel",
      "state": {}
     },
     "73a4c74d58c549c0b653b70b68e0abf3": {
      "model_module": "@jupyter-widgets/controls",
      "model_module_version": "1.4.0",
      "model_name": "SliderStyleModel",
      "state": {
       "description_width": ""
      }
     },
     "746699fb6e0f43ba93408d5e31a977a3": {
      "model_module": "@jupyter-widgets/controls",
      "model_module_version": "1.4.0",
      "model_name": "IntSliderModel",
      "state": {
       "description": "Pull",
       "layout": "IPY_MODEL_58a3284b903347e281069b3aa52f526c",
       "max": 12000,
       "min": 9900,
       "step": 100,
       "style": "IPY_MODEL_1e1fdb89b0f84da3b868b0a2fac41174",
       "value": 10200
      }
     },
     "761ddb04d20b4518ac42efa1d456bd95": {
      "model_module": "@jupyter-widgets/controls",
      "model_module_version": "1.4.0",
      "model_name": "SliderStyleModel",
      "state": {
       "description_width": ""
      }
     },
     "762a60b8eddf41009a89680428e2c094": {
      "model_module": "@jupyter-widgets/base",
      "model_module_version": "1.1.0",
      "model_name": "LayoutModel",
      "state": {}
     },
     "76abc8517a974a1f93925ef8b9f67200": {
      "model_module": "@jupyter-widgets/controls",
      "model_module_version": "1.4.0",
      "model_name": "SliderStyleModel",
      "state": {
       "description_width": ""
      }
     },
     "772578cae77f42e5830da9c7ec884754": {
      "model_module": "@jupyter-widgets/controls",
      "model_module_version": "1.4.0",
      "model_name": "IntSliderModel",
      "state": {
       "description": "Pull",
       "layout": "IPY_MODEL_afa5c21281974b9f940f0ee3f57be9f4",
       "max": 12000,
       "min": 9900,
       "step": 100,
       "style": "IPY_MODEL_76abc8517a974a1f93925ef8b9f67200",
       "value": 10400
      }
     },
     "77403ca730a5410cacf6cb85e91f2c7b": {
      "model_module": "@jupyter-widgets/base",
      "model_module_version": "1.1.0",
      "model_name": "LayoutModel",
      "state": {}
     },
     "77affa0afee84d2ea2a967560fb58c78": {
      "model_module": "@jupyter-widgets/controls",
      "model_module_version": "1.4.0",
      "model_name": "DropdownModel",
      "state": {
       "_options_labels": [
        "9900",
        "12000"
       ],
       "description": "S2",
       "index": 0,
       "layout": "IPY_MODEL_27f60308efc14496928bfee5e0dacabd",
       "style": "IPY_MODEL_7ef13f09f96a47c5a8a8958922ed4551"
      }
     },
     "77c654b7e90743c38b039121b09e0ed4": {
      "model_module": "@jupyter-widgets/base",
      "model_module_version": "1.1.0",
      "model_name": "LayoutModel",
      "state": {}
     },
     "78b1ca434eb5412fabd3c2f01f8b25ac": {
      "model_module": "@jupyter-widgets/controls",
      "model_module_version": "1.4.0",
      "model_name": "IntSliderModel",
      "state": {
       "description": "Pull",
       "layout": "IPY_MODEL_b86196c9116c4c37bb9f8ac0ed3c3232",
       "max": 12000,
       "min": 9900,
       "step": 100,
       "style": "IPY_MODEL_70ae8f54c0cc4a0b9cc328dfc6fb42e3",
       "value": 12000
      }
     },
     "792ffc8e6df547c789cea734e6524681": {
      "model_module": "@jupyter-widgets/controls",
      "model_module_version": "1.4.0",
      "model_name": "SliderStyleModel",
      "state": {
       "description_width": ""
      }
     },
     "794a1ce3c55441c0831f8f5f4662e25c": {
      "model_module": "@jupyter-widgets/controls",
      "model_module_version": "1.4.0",
      "model_name": "SliderStyleModel",
      "state": {
       "description_width": ""
      }
     },
     "799a4a7b75384a7b8e24015743e3efdf": {
      "model_module": "@jupyter-widgets/base",
      "model_module_version": "1.1.0",
      "model_name": "LayoutModel",
      "state": {}
     },
     "7ba77884c413449aa7965ec2fe4829f2": {
      "model_module": "@jupyter-widgets/base",
      "model_module_version": "1.1.0",
      "model_name": "LayoutModel",
      "state": {}
     },
     "7bb5afef3b60446bac22e743832bda18": {
      "model_module": "@jupyter-widgets/base",
      "model_module_version": "1.1.0",
      "model_name": "LayoutModel",
      "state": {}
     },
     "7c821dec069f43e69ef16f3acd79903c": {
      "model_module": "@jupyter-widgets/base",
      "model_module_version": "1.1.0",
      "model_name": "LayoutModel",
      "state": {}
     },
     "7ef13f09f96a47c5a8a8958922ed4551": {
      "model_module": "@jupyter-widgets/controls",
      "model_module_version": "1.4.0",
      "model_name": "DescriptionStyleModel",
      "state": {
       "description_width": ""
      }
     },
     "7fca9ef6609d4ee2b2ceb0c5408660a7": {
      "model_module": "@jupyter-widgets/controls",
      "model_module_version": "1.4.0",
      "model_name": "SliderStyleModel",
      "state": {
       "description_width": ""
      }
     },
     "82071a6cbe9b4fe78ed3ef68785f0faa": {
      "model_module": "@jupyter-widgets/controls",
      "model_module_version": "1.4.0",
      "model_name": "IntSliderModel",
      "state": {
       "description": "Pull",
       "layout": "IPY_MODEL_ff340df8b45e4a3eafb126f9459ada29",
       "max": 12000,
       "min": 9900,
       "step": 100,
       "style": "IPY_MODEL_a6c2cd3615364c53b03c574f193d4bb9",
       "value": 10000
      }
     },
     "83367283396d4477954877b093f7fc4a": {
      "model_module": "@jupyter-widgets/controls",
      "model_module_version": "1.4.0",
      "model_name": "VBoxModel",
      "state": {
       "_dom_classes": [
        "widget-interact"
       ],
       "children": [
        "IPY_MODEL_f8d980ce435940e8a41c6945afa99279",
        "IPY_MODEL_196ab24412474d02a8a94b5faaf8e86e",
        "IPY_MODEL_8bd5a1d992ff4c92998c9f0e0fce798b"
       ],
       "layout": "IPY_MODEL_9ae6fa5cc0d944fab6fae1e7260d8611"
      }
     },
     "87637377c6af467f936a1ba47a5214df": {
      "model_module": "@jupyter-widgets/controls",
      "model_module_version": "1.4.0",
      "model_name": "IntSliderModel",
      "state": {
       "description": "Call",
       "layout": "IPY_MODEL_e2720a9e222d4564ab6da6ad4cbcdc91",
       "max": 12000,
       "min": 9900,
       "step": 100,
       "style": "IPY_MODEL_792ffc8e6df547c789cea734e6524681",
       "value": 10900
      }
     },
     "89868aeb02d245088c3b1624e6158c7f": {
      "model_module": "@jupyter-widgets/controls",
      "model_module_version": "1.4.0",
      "model_name": "IntSliderModel",
      "state": {
       "description": "Pull",
       "layout": "IPY_MODEL_0fffb65733a74eea8477ca72914502bd",
       "max": 12000,
       "min": 9900,
       "step": 100,
       "style": "IPY_MODEL_488f4f21a7464a2b8aa11b5d89fe8837",
       "value": 10900
      }
     },
     "89de6f39cfe443a7843c7e65e402c37c": {
      "model_module": "@jupyter-widgets/base",
      "model_module_version": "1.1.0",
      "model_name": "LayoutModel",
      "state": {}
     },
     "89f54c6cc9334c96b894d7c0977e2ef8": {
      "model_module": "@jupyter-widgets/output",
      "model_module_version": "1.0.0",
      "model_name": "OutputModel",
      "state": {
       "layout": "IPY_MODEL_efa739a3f9464c8cae46ba292c2ecb84",
       "outputs": [
        {
         "name": "stdout",
         "output_type": "stream",
         "text": "買權 履約價   Arbitrage   賣權 履約價   Arbitrage\n9900           245.06        9900     16.06\n10000          190.22       10000    -84.28\n10100           20.37       10100   -183.13\n10200          -77.48       10200   -283.98\n10300         -180.33       10300   -383.33\n10400         -281.18       10400   -483.18\n10500         -383.02       10500   -583.02\n10600         -481.87       10600   -680.87\n10700         -582.72       10700   -779.72\n10800         -683.57       10800   -878.57\n10900         -783.42       10900   -979.42\n11000         -882.76       11000 -1,079.26\n11100         -982.61       11100 -1,168.11\n"
        }
       ]
      }
     },
     "8bd5a1d992ff4c92998c9f0e0fce798b": {
      "model_module": "@jupyter-widgets/output",
      "model_module_version": "1.0.0",
      "model_name": "OutputModel",
      "state": {
       "layout": "IPY_MODEL_4f4c25ee8bee463aabeaf65d86ba0371",
       "outputs": [
        {
         "name": "stdout",
         "output_type": "stream",
         "text": "買權 履約價   Arbitrage   賣權 履約價   Arbitrage\n9900         1,014.91        9900    985.91\n10000          959.76       10000    885.26\n10100          789.61       10100    786.11\n10200          691.46       10200    684.96\n10300          588.30       10300    585.30\n10400          487.15       10400    485.15\n10500          385.00       10500    385.00\n10600          285.85       10600    286.85\n10700          184.70       10700    187.70\n10800           83.54       10800     88.54\n10900          -16.61       10900    -12.61\n11000         -116.26       11000   -112.76\n11100         -216.41       11100   -201.91\n"
        }
       ]
      }
     },
     "8d2959e7189640baa974c3d1683ad589": {
      "model_module": "@jupyter-widgets/base",
      "model_module_version": "1.1.0",
      "model_name": "LayoutModel",
      "state": {}
     },
     "8d86a6737c3b46d18825da0175849ec1": {
      "model_module": "@jupyter-widgets/controls",
      "model_module_version": "1.4.0",
      "model_name": "IntSliderModel",
      "state": {
       "description": "Call",
       "layout": "IPY_MODEL_dde2134357c541a1a2a7c1ec86210943",
       "max": 12000,
       "min": 9900,
       "step": 100,
       "style": "IPY_MODEL_7fca9ef6609d4ee2b2ceb0c5408660a7",
       "value": 9900
      }
     },
     "8de3f75b1abc44cfa457bfbef0ea698b": {
      "model_module": "@jupyter-widgets/base",
      "model_module_version": "1.1.0",
      "model_name": "LayoutModel",
      "state": {}
     },
     "8ebcc3e78f5343f9950dc0479bee3234": {
      "model_module": "@jupyter-widgets/controls",
      "model_module_version": "1.4.0",
      "model_name": "VBoxModel",
      "state": {
       "_dom_classes": [
        "widget-interact"
       ],
       "children": [
        "IPY_MODEL_07de05e1fc80438583f28f598555b7d4",
        "IPY_MODEL_e86a9aca7f4048438519a2cb0569c4dc",
        "IPY_MODEL_d4bc644d92d449b2ad60f1c33ca9c242"
       ],
       "layout": "IPY_MODEL_c7ae86e2b3994b13a7cc9264ed4f820f"
      }
     },
     "8ef2254eb594484db7ddb62edbfc4d83": {
      "model_module": "@jupyter-widgets/controls",
      "model_module_version": "1.4.0",
      "model_name": "SliderStyleModel",
      "state": {
       "description_width": ""
      }
     },
     "8f65676c500b41ea95e7e5b1aeffce52": {
      "model_module": "@jupyter-widgets/base",
      "model_module_version": "1.1.0",
      "model_name": "LayoutModel",
      "state": {}
     },
     "8f6d29edd3e24fb5ab0f07c50150cccb": {
      "model_module": "@jupyter-widgets/controls",
      "model_module_version": "1.4.0",
      "model_name": "VBoxModel",
      "state": {
       "_dom_classes": [
        "widget-interact"
       ],
       "children": [
        "IPY_MODEL_78b1ca434eb5412fabd3c2f01f8b25ac",
        "IPY_MODEL_90c757f4224342b08ae126171ad70e21",
        "IPY_MODEL_535a3d26436d47cc9414488e5a859d05"
       ],
       "layout": "IPY_MODEL_4e1073daee164ad7a77446a879430e0a"
      }
     },
     "907d38858bcb4fafac149bfc7d909ed7": {
      "model_module": "@jupyter-widgets/base",
      "model_module_version": "1.1.0",
      "model_name": "LayoutModel",
      "state": {}
     },
     "90c757f4224342b08ae126171ad70e21": {
      "model_module": "@jupyter-widgets/controls",
      "model_module_version": "1.4.0",
      "model_name": "IntSliderModel",
      "state": {
       "description": "Call",
       "layout": "IPY_MODEL_fd3f848009604a07ac111077aa22cdba",
       "max": 12000,
       "min": 9900,
       "step": 100,
       "style": "IPY_MODEL_9dc5acb95d5640f8a58d9300614f1ba1",
       "value": 12000
      }
     },
     "944bfd1ebe4a463ebecdbbf157f55ea1": {
      "model_module": "@jupyter-widgets/controls",
      "model_module_version": "1.4.0",
      "model_name": "SliderStyleModel",
      "state": {
       "description_width": ""
      }
     },
     "948b9d9a2f68487698e6a689144b66ff": {
      "model_module": "@jupyter-widgets/controls",
      "model_module_version": "1.4.0",
      "model_name": "IntSliderModel",
      "state": {
       "description": "Call",
       "layout": "IPY_MODEL_6e9b88170dbc49cb80e9f611e9aa43a8",
       "max": 12000,
       "min": 9900,
       "step": 100,
       "style": "IPY_MODEL_73a4c74d58c549c0b653b70b68e0abf3",
       "value": 10900
      }
     },
     "94c07e7bfe504d5a80baa0cf99b2291d": {
      "model_module": "@jupyter-widgets/controls",
      "model_module_version": "1.4.0",
      "model_name": "SliderStyleModel",
      "state": {
       "description_width": ""
      }
     },
     "9858770b452147a5a1bbebd36fbe19fd": {
      "model_module": "@jupyter-widgets/controls",
      "model_module_version": "1.4.0",
      "model_name": "SliderStyleModel",
      "state": {
       "description_width": ""
      }
     },
     "98882e2b49944adc855ad94df3bc08ce": {
      "model_module": "@jupyter-widgets/controls",
      "model_module_version": "1.4.0",
      "model_name": "IntSliderModel",
      "state": {
       "description": "Call",
       "layout": "IPY_MODEL_d61702fa25ba4d718957c60d94dbfc66",
       "max": 12000,
       "min": 9900,
       "step": 100,
       "style": "IPY_MODEL_8ef2254eb594484db7ddb62edbfc4d83",
       "value": 10900
      }
     },
     "9ae32ab870b043419c02e401fdf6b6df": {
      "model_module": "@jupyter-widgets/base",
      "model_module_version": "1.1.0",
      "model_name": "LayoutModel",
      "state": {}
     },
     "9ae6fa5cc0d944fab6fae1e7260d8611": {
      "model_module": "@jupyter-widgets/base",
      "model_module_version": "1.1.0",
      "model_name": "LayoutModel",
      "state": {}
     },
     "9b1e9ea71ea040e58dfa3ac15d4b1a5a": {
      "model_module": "@jupyter-widgets/base",
      "model_module_version": "1.1.0",
      "model_name": "LayoutModel",
      "state": {}
     },
     "9b6dc1231b6f4473a13b3b75dc55c530": {
      "model_module": "@jupyter-widgets/controls",
      "model_module_version": "1.4.0",
      "model_name": "SliderStyleModel",
      "state": {
       "description_width": ""
      }
     },
     "9bf85893d0c8410d8946605a0d29195a": {
      "model_module": "@jupyter-widgets/base",
      "model_module_version": "1.1.0",
      "model_name": "LayoutModel",
      "state": {}
     },
     "9c11f0598e994c959390512b0e9ecd2a": {
      "model_module": "@jupyter-widgets/base",
      "model_module_version": "1.1.0",
      "model_name": "LayoutModel",
      "state": {}
     },
     "9dc5acb95d5640f8a58d9300614f1ba1": {
      "model_module": "@jupyter-widgets/controls",
      "model_module_version": "1.4.0",
      "model_name": "SliderStyleModel",
      "state": {
       "description_width": ""
      }
     },
     "9e85741abe8e45be86d0981896a542c8": {
      "model_module": "@jupyter-widgets/controls",
      "model_module_version": "1.4.0",
      "model_name": "IntSliderModel",
      "state": {
       "description": "S1",
       "layout": "IPY_MODEL_799a4a7b75384a7b8e24015743e3efdf",
       "max": 12000,
       "min": 9900,
       "step": 100,
       "style": "IPY_MODEL_627f90303837477c85870e9c7cbc4f13",
       "value": 10100
      }
     },
     "9e8aa63af95c40e580900ab2e2af746b": {
      "model_module": "@jupyter-widgets/controls",
      "model_module_version": "1.4.0",
      "model_name": "SliderStyleModel",
      "state": {
       "description_width": ""
      }
     },
     "9ec152c8e0c24b4b9e6112da6a8727bd": {
      "model_module": "@jupyter-widgets/base",
      "model_module_version": "1.1.0",
      "model_name": "LayoutModel",
      "state": {}
     },
     "a02bb618b08243ddaa72302b38e529c9": {
      "model_module": "@jupyter-widgets/output",
      "model_module_version": "1.0.0",
      "model_name": "OutputModel",
      "state": {
       "layout": "IPY_MODEL_1e6387a2344b425d892a2f966bfe3020",
       "outputs": [
        {
         "name": "stdout",
         "output_type": "stream",
         "text": "買權 履約價   Arbitrage   賣權 履約價   Arbitrage\n9900           314.91        9900    985.91\n10000          259.76       10000    885.26\n10100           89.61       10100    786.11\n10200           -8.54       10200    684.96\n10300         -111.70       10300    585.30\n10400         -212.85       10400    485.15\n10500         -315.00       10500    385.00\n10600         -414.15       10600    286.85\n10700         -515.30       10700    187.70\n10800         -616.46       10800     88.54\n10900         -716.61       10900    -12.61\n11000         -816.26       11000   -112.76\n11100         -916.41       11100   -201.91\n"
        }
       ]
      }
     },
     "a3df5211f5914bc5873e9166d482d7e2": {
      "model_module": "@jupyter-widgets/output",
      "model_module_version": "1.0.0",
      "model_name": "OutputModel",
      "state": {
       "layout": "IPY_MODEL_00ddc4606c194d4b8c74f652bf81abf4",
       "outputs": [
        {
         "name": "stdout",
         "output_type": "stream",
         "text": "買權 履約價   Arbitrage   賣權 履約價   Arbitrage\n9900        -1,842.94        9900    117.06\n10000       -1,897.78       10000     16.72\n10100       -2,067.63       10100    -82.13\n10200       -2,165.48       10200   -182.98\n10300       -2,268.33       10300   -282.33\n10400       -2,369.18       10400   -382.18\n10500       -2,471.02       10500   -482.02\n10600       -2,569.87       10600   -579.87\n10700       -2,670.72       10700   -678.72\n10800       -2,771.57       10800   -777.57\n10900       -2,871.42       10900   -878.42\n11000       -2,970.76       11000   -978.26\n11100       -3,070.61       11100 -1,067.11\n"
        }
       ]
      }
     },
     "a42d0cacca07471fa6147c4889d841a3": {
      "model_module": "@jupyter-widgets/controls",
      "model_module_version": "1.4.0",
      "model_name": "IntSliderModel",
      "state": {
       "description": "Pull",
       "layout": "IPY_MODEL_9ec152c8e0c24b4b9e6112da6a8727bd",
       "max": 12000,
       "min": 9900,
       "step": 100,
       "style": "IPY_MODEL_761ddb04d20b4518ac42efa1d456bd95",
       "value": 10900
      }
     },
     "a6c2cd3615364c53b03c574f193d4bb9": {
      "model_module": "@jupyter-widgets/controls",
      "model_module_version": "1.4.0",
      "model_name": "SliderStyleModel",
      "state": {
       "description_width": ""
      }
     },
     "a93f32e3effe4528a52cb5f191f69b93": {
      "model_module": "@jupyter-widgets/controls",
      "model_module_version": "1.4.0",
      "model_name": "IntSliderModel",
      "state": {
       "description": "Call",
       "layout": "IPY_MODEL_9c11f0598e994c959390512b0e9ecd2a",
       "max": 12000,
       "min": 9900,
       "step": 100,
       "style": "IPY_MODEL_3365fcfb0619433ba221b18ca4baba92",
       "value": 10500
      }
     },
     "ab5a86fb28e24942afe47e181c7b8eb1": {
      "model_module": "@jupyter-widgets/base",
      "model_module_version": "1.1.0",
      "model_name": "LayoutModel",
      "state": {}
     },
     "ab9be7395d544e4ab3862b97e4291911": {
      "model_module": "@jupyter-widgets/controls",
      "model_module_version": "1.4.0",
      "model_name": "VBoxModel",
      "state": {
       "_dom_classes": [
        "widget-interact"
       ],
       "children": [
        "IPY_MODEL_64b8bef24e614dd3aff8d2213d7937c9",
        "IPY_MODEL_8d86a6737c3b46d18825da0175849ec1",
        "IPY_MODEL_c43f8a1f1dec4daa88c91cacc05d541e"
       ],
       "layout": "IPY_MODEL_14cf6396a66f476e8526659553d949f9"
      }
     },
     "ac103bdb45294ee1b3af596efcb4d8f6": {
      "model_module": "@jupyter-widgets/base",
      "model_module_version": "1.1.0",
      "model_name": "LayoutModel",
      "state": {}
     },
     "ad16141f78f04b93898420be2056f9b2": {
      "model_module": "@jupyter-widgets/controls",
      "model_module_version": "1.4.0",
      "model_name": "VBoxModel",
      "state": {
       "_dom_classes": [
        "widget-interact"
       ],
       "children": [
        "IPY_MODEL_9e85741abe8e45be86d0981896a542c8",
        "IPY_MODEL_f763bb542348495c92148d6dfd2d7eb5",
        "IPY_MODEL_89f54c6cc9334c96b894d7c0977e2ef8"
       ],
       "layout": "IPY_MODEL_1b9f7be9f40a4b5ba0379e8a30016ecc"
      }
     },
     "afa5c21281974b9f940f0ee3f57be9f4": {
      "model_module": "@jupyter-widgets/base",
      "model_module_version": "1.1.0",
      "model_name": "LayoutModel",
      "state": {}
     },
     "b5cb01fea43f4e8fb3cad68144a5f1bc": {
      "model_module": "@jupyter-widgets/controls",
      "model_module_version": "1.4.0",
      "model_name": "SliderStyleModel",
      "state": {
       "description_width": ""
      }
     },
     "b81927f96fd14412934c4f41b47f91e7": {
      "model_module": "@jupyter-widgets/base",
      "model_module_version": "1.1.0",
      "model_name": "LayoutModel",
      "state": {}
     },
     "b86196c9116c4c37bb9f8ac0ed3c3232": {
      "model_module": "@jupyter-widgets/base",
      "model_module_version": "1.1.0",
      "model_name": "LayoutModel",
      "state": {}
     },
     "ba27baccca204d24ad1bba4b77e4d448": {
      "model_module": "@jupyter-widgets/controls",
      "model_module_version": "1.4.0",
      "model_name": "SliderStyleModel",
      "state": {
       "description_width": ""
      }
     },
     "ba4862c4619e431aa0b6fcee7d31495b": {
      "model_module": "@jupyter-widgets/controls",
      "model_module_version": "1.4.0",
      "model_name": "IntSliderModel",
      "state": {
       "description": "Call",
       "layout": "IPY_MODEL_5e9f02b77efb4367aa7f10551fc0a0f8",
       "max": 12000,
       "min": 9900,
       "step": 100,
       "style": "IPY_MODEL_3654854d168b48b6b548ba58d8a934a1",
       "value": 10900
      }
     },
     "bb1ed3b1aa0f4fd9bcb545a2934d6f4b": {
      "model_module": "@jupyter-widgets/controls",
      "model_module_version": "1.4.0",
      "model_name": "SliderStyleModel",
      "state": {
       "description_width": ""
      }
     },
     "bc114740334542fbb92f9bf876735742": {
      "model_module": "@jupyter-widgets/controls",
      "model_module_version": "1.4.0",
      "model_name": "VBoxModel",
      "state": {
       "_dom_classes": [
        "widget-interact"
       ],
       "children": [
        "IPY_MODEL_a42d0cacca07471fa6147c4889d841a3",
        "IPY_MODEL_efd99824712946cd862a04b096730a86",
        "IPY_MODEL_426f99674978417782121c655feba9bd"
       ],
       "layout": "IPY_MODEL_61e864e729bd442ba0f7bedaeaa6567e"
      }
     },
     "bd36bef50e0f48bcbaa5c6d013ec46c7": {
      "model_module": "@jupyter-widgets/base",
      "model_module_version": "1.1.0",
      "model_name": "LayoutModel",
      "state": {}
     },
     "bdb25d9cf0ae4c93aff28510818c0d6d": {
      "model_module": "@jupyter-widgets/controls",
      "model_module_version": "1.4.0",
      "model_name": "IntSliderModel",
      "state": {
       "description": "Pull",
       "layout": "IPY_MODEL_fd411f00c1a24c7281c9c475abc01c0c",
       "max": 12000,
       "min": 9900,
       "step": 100,
       "style": "IPY_MODEL_5846b2eefb8649bdac0a279eaa3fee82",
       "value": 10300
      }
     },
     "bfc53584d5de47288e68be366f5d83ab": {
      "model_module": "@jupyter-widgets/controls",
      "model_module_version": "1.4.0",
      "model_name": "SliderStyleModel",
      "state": {
       "description_width": ""
      }
     },
     "c142ec2119e7433ab11895d4f6a5b4be": {
      "model_module": "@jupyter-widgets/controls",
      "model_module_version": "1.4.0",
      "model_name": "SliderStyleModel",
      "state": {
       "description_width": ""
      }
     },
     "c15284941b3d49259e692577b405754a": {
      "model_module": "@jupyter-widgets/controls",
      "model_module_version": "1.4.0",
      "model_name": "DropdownModel",
      "state": {
       "_options_labels": [
        "9900",
        "12000"
       ],
       "description": "S1",
       "index": 0,
       "layout": "IPY_MODEL_ea987aee236e4c67949448222dcb52d0",
       "style": "IPY_MODEL_039cf8806b88491685b9292e6a39af0a"
      }
     },
     "c43f8a1f1dec4daa88c91cacc05d541e": {
      "model_module": "@jupyter-widgets/output",
      "model_module_version": "1.0.0",
      "model_name": "OutputModel",
      "state": {
       "layout": "IPY_MODEL_9ae32ab870b043419c02e401fdf6b6df",
       "outputs": [
        {
         "name": "stdout",
         "output_type": "stream",
         "text": "買權 履約價   Arbitrage   賣權 履約價   Arbitrage\n9900            14.91        9900    -14.09\n10000          -40.24       10000   -114.74\n10100         -210.39       10100   -213.89\n10200         -308.54       10200   -315.04\n10300         -411.70       10300   -414.70\n10400         -512.85       10400   -514.85\n10500         -615.00       10500   -615.00\n10600         -714.15       10600   -713.15\n10700         -815.30       10700   -812.30\n10800         -916.46       10800   -911.46\n10900       -1,016.61       10900 -1,012.61\n11000       -1,116.26       11000 -1,112.76\n11100       -1,216.41       11100 -1,201.91\n"
        }
       ]
      }
     },
     "c7ae86e2b3994b13a7cc9264ed4f820f": {
      "model_module": "@jupyter-widgets/base",
      "model_module_version": "1.1.0",
      "model_name": "LayoutModel",
      "state": {}
     },
     "c9cdffc8a8f746c59743d93500f13d29": {
      "model_module": "@jupyter-widgets/base",
      "model_module_version": "1.1.0",
      "model_name": "LayoutModel",
      "state": {}
     },
     "ca2781bce7474cc581de65e79a83e393": {
      "model_module": "@jupyter-widgets/controls",
      "model_module_version": "1.4.0",
      "model_name": "VBoxModel",
      "state": {
       "_dom_classes": [
        "widget-interact"
       ],
       "children": [
        "IPY_MODEL_c15284941b3d49259e692577b405754a",
        "IPY_MODEL_77affa0afee84d2ea2a967560fb58c78",
        "IPY_MODEL_35dc3f320088430b8aa8a864285c1e04"
       ],
       "layout": "IPY_MODEL_7c821dec069f43e69ef16f3acd79903c"
      }
     },
     "cbd0b6b310924a7588e275908c7ea0bb": {
      "model_module": "@jupyter-widgets/base",
      "model_module_version": "1.1.0",
      "model_name": "LayoutModel",
      "state": {}
     },
     "ce6caa2d84bc44e3967f7614142bf5c7": {
      "model_module": "@jupyter-widgets/base",
      "model_module_version": "1.1.0",
      "model_name": "LayoutModel",
      "state": {}
     },
     "cee9e67cc7f34803b6b96ecd50532d32": {
      "model_module": "@jupyter-widgets/controls",
      "model_module_version": "1.4.0",
      "model_name": "IntSliderModel",
      "state": {
       "description": "Call",
       "layout": "IPY_MODEL_cf18003bda4942e8801891f01da0465d",
       "max": 12000,
       "min": 9900,
       "step": 100,
       "style": "IPY_MODEL_62d5420d75764992bf2395b8e0064abf",
       "value": 10900
      }
     },
     "cf18003bda4942e8801891f01da0465d": {
      "model_module": "@jupyter-widgets/base",
      "model_module_version": "1.1.0",
      "model_name": "LayoutModel",
      "state": {}
     },
     "d044216c6a114ab08c8141863c6f1920": {
      "model_module": "@jupyter-widgets/controls",
      "model_module_version": "1.4.0",
      "model_name": "IntSliderModel",
      "state": {
       "description": "Pull",
       "layout": "IPY_MODEL_5bd834bc53a543c49582e1d07e49ab67",
       "max": 12000,
       "min": 9900,
       "step": 100,
       "style": "IPY_MODEL_bb1ed3b1aa0f4fd9bcb545a2934d6f4b",
       "value": 10900
      }
     },
     "d242e9b7772f45ae95210d7d604710c2": {
      "model_module": "@jupyter-widgets/base",
      "model_module_version": "1.1.0",
      "model_name": "LayoutModel",
      "state": {}
     },
     "d4bc644d92d449b2ad60f1c33ca9c242": {
      "model_module": "@jupyter-widgets/output",
      "model_module_version": "1.0.0",
      "model_name": "OutputModel",
      "state": {
       "layout": "IPY_MODEL_6e125b9e71e344a6a4d2fb4823be6cab",
       "outputs": [
        {
         "name": "stdout",
         "output_type": "stream",
         "text": "買權 履約價   Arbitrage   賣權 履約價   Arbitrage\n9900            45.06        9900    216.06\n10000           -9.78       10000    115.72\n10100         -179.63       10100     16.87\n10200         -277.48       10200    -83.98\n10300         -380.33       10300   -183.33\n10400         -481.18       10400   -283.18\n10500         -583.02       10500   -383.02\n10600         -681.87       10600   -480.87\n10700         -782.72       10700   -579.72\n10800         -883.57       10800   -678.57\n10900         -983.42       10900   -779.42\n11000       -1,082.76       11000   -879.26\n11100       -1,182.61       11100   -968.11\n"
        }
       ]
      }
     },
     "d61702fa25ba4d718957c60d94dbfc66": {
      "model_module": "@jupyter-widgets/base",
      "model_module_version": "1.1.0",
      "model_name": "LayoutModel",
      "state": {}
     },
     "d6c39851aa534785b8a34b0a84e57920": {
      "model_module": "@jupyter-widgets/base",
      "model_module_version": "1.1.0",
      "model_name": "LayoutModel",
      "state": {}
     },
     "d967d6a2222c4296a035303037c7b30c": {
      "model_module": "@jupyter-widgets/controls",
      "model_module_version": "1.4.0",
      "model_name": "IntSliderModel",
      "state": {
       "description": "Pull",
       "layout": "IPY_MODEL_89de6f39cfe443a7843c7e65e402c37c",
       "max": 12000,
       "min": 9900,
       "step": 100,
       "style": "IPY_MODEL_794a1ce3c55441c0831f8f5f4662e25c",
       "value": 10200
      }
     },
     "dcec447030f24e958b8561cfb39f9b05": {
      "model_module": "@jupyter-widgets/controls",
      "model_module_version": "1.4.0",
      "model_name": "VBoxModel",
      "state": {
       "_dom_classes": [
        "widget-interact"
       ],
       "children": [
        "IPY_MODEL_bdb25d9cf0ae4c93aff28510818c0d6d",
        "IPY_MODEL_1f89d07a4cee4241b1f16da321541407",
        "IPY_MODEL_67e4f66a1ca84d38bc6f46d3022f4032"
       ],
       "layout": "IPY_MODEL_8de3f75b1abc44cfa457bfbef0ea698b"
      }
     },
     "dde2134357c541a1a2a7c1ec86210943": {
      "model_module": "@jupyter-widgets/base",
      "model_module_version": "1.1.0",
      "model_name": "LayoutModel",
      "state": {}
     },
     "e2720a9e222d4564ab6da6ad4cbcdc91": {
      "model_module": "@jupyter-widgets/base",
      "model_module_version": "1.1.0",
      "model_name": "LayoutModel",
      "state": {}
     },
     "e2e114fce5364651b97506a8404801ca": {
      "model_module": "@jupyter-widgets/base",
      "model_module_version": "1.1.0",
      "model_name": "LayoutModel",
      "state": {}
     },
     "e59600d30051475f8de3333bcfc81863": {
      "model_module": "@jupyter-widgets/base",
      "model_module_version": "1.1.0",
      "model_name": "LayoutModel",
      "state": {}
     },
     "e86a9aca7f4048438519a2cb0569c4dc": {
      "model_module": "@jupyter-widgets/controls",
      "model_module_version": "1.4.0",
      "model_name": "IntSliderModel",
      "state": {
       "description": "Call",
       "layout": "IPY_MODEL_f21701b4a8624876a0156e4b8e2ffdcf",
       "max": 12000,
       "min": 9900,
       "step": 100,
       "style": "IPY_MODEL_f4e86fb32ee844ceb488cb56f0cc73ae",
       "value": 10100
      }
     },
     "e92fd17d84de4fffb337c379c2c24dc4": {
      "model_module": "@jupyter-widgets/controls",
      "model_module_version": "1.4.0",
      "model_name": "VBoxModel",
      "state": {
       "_dom_classes": [
        "widget-interact"
       ],
       "children": [
        "IPY_MODEL_47b5025d73da4eca86c68897e05381a7",
        "IPY_MODEL_a3df5211f5914bc5873e9166d482d7e2"
       ],
       "layout": "IPY_MODEL_07bdf602ec16431293ea712eed19e7f4"
      }
     },
     "ea987aee236e4c67949448222dcb52d0": {
      "model_module": "@jupyter-widgets/base",
      "model_module_version": "1.1.0",
      "model_name": "LayoutModel",
      "state": {}
     },
     "ebf8e042955a43179652ebbfe94a196e": {
      "model_module": "@jupyter-widgets/base",
      "model_module_version": "1.1.0",
      "model_name": "LayoutModel",
      "state": {}
     },
     "ec0819d50d3a4ffca0eab96f674ab74d": {
      "model_module": "@jupyter-widgets/base",
      "model_module_version": "1.1.0",
      "model_name": "LayoutModel",
      "state": {}
     },
     "ef10f82ac6a540df82b9676bf792cce5": {
      "model_module": "@jupyter-widgets/base",
      "model_module_version": "1.1.0",
      "model_name": "LayoutModel",
      "state": {}
     },
     "ef87fee567284261b0e5ae1cefafcad7": {
      "model_module": "@jupyter-widgets/base",
      "model_module_version": "1.1.0",
      "model_name": "LayoutModel",
      "state": {}
     },
     "efa739a3f9464c8cae46ba292c2ecb84": {
      "model_module": "@jupyter-widgets/base",
      "model_module_version": "1.1.0",
      "model_name": "LayoutModel",
      "state": {}
     },
     "efd99824712946cd862a04b096730a86": {
      "model_module": "@jupyter-widgets/controls",
      "model_module_version": "1.4.0",
      "model_name": "IntSliderModel",
      "state": {
       "description": "Call",
       "layout": "IPY_MODEL_77403ca730a5410cacf6cb85e91f2c7b",
       "max": 12000,
       "min": 9900,
       "step": 100,
       "style": "IPY_MODEL_94c07e7bfe504d5a80baa0cf99b2291d",
       "value": 10900
      }
     },
     "f21701b4a8624876a0156e4b8e2ffdcf": {
      "model_module": "@jupyter-widgets/base",
      "model_module_version": "1.1.0",
      "model_name": "LayoutModel",
      "state": {}
     },
     "f48834586bf645d190d2fa7d365b01fc": {
      "model_module": "@jupyter-widgets/controls",
      "model_module_version": "1.4.0",
      "model_name": "VBoxModel",
      "state": {
       "_dom_classes": [
        "widget-interact"
       ],
       "children": [
        "IPY_MODEL_89868aeb02d245088c3b1624e6158c7f",
        "IPY_MODEL_ba4862c4619e431aa0b6fcee7d31495b",
        "IPY_MODEL_f67f90aab53845aa8cb0c81659737d85"
       ],
       "layout": "IPY_MODEL_15e6de98af084b46ad5c469361b88a97"
      }
     },
     "f4e86fb32ee844ceb488cb56f0cc73ae": {
      "model_module": "@jupyter-widgets/controls",
      "model_module_version": "1.4.0",
      "model_name": "SliderStyleModel",
      "state": {
       "description_width": ""
      }
     },
     "f67f90aab53845aa8cb0c81659737d85": {
      "model_module": "@jupyter-widgets/output",
      "model_module_version": "1.0.0",
      "model_name": "OutputModel",
      "state": {
       "layout": "IPY_MODEL_8f65676c500b41ea95e7e5b1aeffce52",
       "outputs": [
        {
         "name": "stdout",
         "output_type": "stream",
         "text": "買權 履約價   Arbitrage   賣權 履約價   Arbitrage\n9900         1,014.91        9900    985.91\n10000          959.76       10000    885.26\n10100          789.61       10100    786.11\n10200          691.46       10200    684.96\n10300          588.30       10300    585.30\n10400          487.15       10400    485.15\n10500          385.00       10500    385.00\n10600          285.85       10600    286.85\n10700          184.70       10700    187.70\n10800           83.54       10800     88.54\n10900          -16.61       10900    -12.61\n11000         -116.26       11000   -112.76\n11100         -216.41       11100   -201.91\n"
        }
       ]
      }
     },
     "f73ba934d3a44de88e1e09d942b4a6dc": {
      "model_module": "@jupyter-widgets/controls",
      "model_module_version": "1.4.0",
      "model_name": "IntSliderModel",
      "state": {
       "description": "Pull",
       "layout": "IPY_MODEL_3f01087047ef4428bae83c434acb08de",
       "max": 12000,
       "min": 9900,
       "step": 100,
       "style": "IPY_MODEL_bfc53584d5de47288e68be366f5d83ab",
       "value": 10900
      }
     },
     "f763bb542348495c92148d6dfd2d7eb5": {
      "model_module": "@jupyter-widgets/controls",
      "model_module_version": "1.4.0",
      "model_name": "IntSliderModel",
      "state": {
       "description": "S2",
       "layout": "IPY_MODEL_11e247604945447a981914cb73921fc1",
       "max": 12000,
       "min": 9900,
       "step": 100,
       "style": "IPY_MODEL_3ebcb2da4195446fb6f6e584c445cbe9",
       "value": 9900
      }
     },
     "f8d980ce435940e8a41c6945afa99279": {
      "model_module": "@jupyter-widgets/controls",
      "model_module_version": "1.4.0",
      "model_name": "IntSliderModel",
      "state": {
       "description": "Pull",
       "layout": "IPY_MODEL_c9cdffc8a8f746c59743d93500f13d29",
       "max": 12000,
       "min": 9900,
       "step": 100,
       "style": "IPY_MODEL_ba27baccca204d24ad1bba4b77e4d448",
       "value": 10900
      }
     },
     "f93a0c2faad946d39e8f4ef1cc583580": {
      "model_module": "@jupyter-widgets/base",
      "model_module_version": "1.1.0",
      "model_name": "LayoutModel",
      "state": {}
     },
     "f96898458d9b42d29a97ea14d6765884": {
      "model_module": "@jupyter-widgets/controls",
      "model_module_version": "1.4.0",
      "model_name": "IntSliderModel",
      "state": {
       "description": "Call",
       "layout": "IPY_MODEL_1fc86f88e1a74e03af9a7317d3fba88c",
       "max": 12000,
       "min": 9900,
       "step": 100,
       "style": "IPY_MODEL_6fab2c2885614de2b6f3a12a9398401e",
       "value": 10900
      }
     },
     "fc0a41b7313e4acabbb8ed0344607351": {
      "model_module": "@jupyter-widgets/controls",
      "model_module_version": "1.4.0",
      "model_name": "VBoxModel",
      "state": {
       "_dom_classes": [
        "widget-interact"
       ],
       "children": [
        "IPY_MODEL_f73ba934d3a44de88e1e09d942b4a6dc",
        "IPY_MODEL_cee9e67cc7f34803b6b96ecd50532d32",
        "IPY_MODEL_676dfe227c1b47599da9a6e0733433b1"
       ],
       "layout": "IPY_MODEL_7bb5afef3b60446bac22e743832bda18"
      }
     },
     "fc5bc726318a4c02b0230d36b1dcc789": {
      "model_module": "@jupyter-widgets/controls",
      "model_module_version": "1.4.0",
      "model_name": "IntSliderModel",
      "state": {
       "description": "Pull",
       "layout": "IPY_MODEL_ef10f82ac6a540df82b9676bf792cce5",
       "max": 12000,
       "min": 9900,
       "step": 100,
       "style": "IPY_MODEL_0099f3d828d741b28121e8e5478b1b92",
       "value": 10900
      }
     },
     "fcce6eed6ddc4019a7cb3b552ef3d344": {
      "model_module": "@jupyter-widgets/controls",
      "model_module_version": "1.4.0",
      "model_name": "VBoxModel",
      "state": {
       "_dom_classes": [
        "widget-interact"
       ],
       "children": [
        "IPY_MODEL_772578cae77f42e5830da9c7ec884754",
        "IPY_MODEL_1b8213e4b0994b559725c8dac5cfc193",
        "IPY_MODEL_5116a527006c48c282bc2dfc5612a768"
       ],
       "layout": "IPY_MODEL_ec0819d50d3a4ffca0eab96f674ab74d"
      }
     },
     "fd3f848009604a07ac111077aa22cdba": {
      "model_module": "@jupyter-widgets/base",
      "model_module_version": "1.1.0",
      "model_name": "LayoutModel",
      "state": {}
     },
     "fd411f00c1a24c7281c9c475abc01c0c": {
      "model_module": "@jupyter-widgets/base",
      "model_module_version": "1.1.0",
      "model_name": "LayoutModel",
      "state": {}
     },
     "ff340df8b45e4a3eafb126f9459ada29": {
      "model_module": "@jupyter-widgets/base",
      "model_module_version": "1.1.0",
      "model_name": "LayoutModel",
      "state": {}
     }
    },
    "version_major": 2,
    "version_minor": 0
   }
  }
 },
 "nbformat": 4,
 "nbformat_minor": 2
}
